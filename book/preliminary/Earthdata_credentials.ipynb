{
 "cells": [
  {
   "attachments": {},
   "cell_type": "markdown",
   "id": "3687b03d-4a68-4a38-8ca8-d20416f3d102",
   "metadata": {},
   "source": [
    "# Set up NASA Earthdata credentials\n",
    "\n",
    "## Set up NASA Earthdata account\n",
    "\n",
    "In order to access any data through the Physical Oceanography Distributed Active Archive Center or [PODAAC](https://podaac.jpl.nasa.gov/), which hosts ECCO state estimate output, you need a [NASA Earthdata](https://www.earthdata.nasa.gov/) account. If you don't already have one you can register for it [here](https://urs.earthdata.nasa.gov/). An overview of the registration process and how to manage your NASA Earthdata profile can be found on [this page](https://www.earthdata.nasa.gov/eosdis/science-system-description/eosdis-components/earthdata-login).\n",
    "\n",
    "> **Note!**  _some Earthdata password characters may cause problems depending on your system_. To be safe, do not use any of the following characters in your password: backslash (\\\\), space, hash (#), quotes (single or double), or greater than (>).  Set/change your Earthdata password here: [https://urs.earthdata.nasa.gov/change_password](https://urs.earthdata.nasa.gov/change_password)\n",
    "\n",
    "## Put credentials in `.netrc` file\n",
    "\n",
    "1. After creating a NASA Earthdata account, create a file called ```.netrc``` in your home directory on OSS:\n",
    "```\n",
    "~/.netrc\n",
    "```\n",
    "\n",
    "You can use your preferred text editor (e.g., Vi/Vim, Emacs) to open ```~/.netrc``` file and add your Earthdata account credentials:\n",
    "\n",
    "```\n",
    "machine urs.earthdata.nasa.gov\n",
    "    login <your username>\n",
    "    password <your password>\n",
    "```\n",
    "\n",
    "2. Set permissions on your ```~/.netrc``` file to be readable only by the current user.  If not, you will receive the error \"netrc access too permissive.\" \n",
    "\n",
    "```shell\n",
    "$ chmod 600 ~/.netrc\n",
    "```\n",
    "\n",
    "Now your Earthdata credentials should be readable by the data access modules that are introduced in the [ECCO data access](https://ecco-hackweek.github.io/ecco-2024/tutorials/ECCO_data_access_index.html) tutorials; no need to enter them repeatedly!"
   ]
  }
 ],
 "metadata": {
  "kernelspec": {
   "display_name": "Python 3 (ipykernel)",
   "language": "python",
   "name": "python3"
  },
  "language_info": {
   "codemirror_mode": {
    "name": "ipython",
    "version": 3
   },
   "file_extension": ".py",
   "mimetype": "text/x-python",
   "name": "python",
   "nbconvert_exporter": "python",
   "pygments_lexer": "ipython3",
   "version": "3.11.9"
  },
  "vscode": {
   "interpreter": {
    "hash": "24c2e7920c8757b7915d7648c7b3230374590156bcd88f340ef2edc7f72d2caa"
   }
  }
 },
 "nbformat": 4,
 "nbformat_minor": 5
}
