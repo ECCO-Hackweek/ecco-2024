{
 "cells": [
  {
   "cell_type": "markdown",
   "id": "fc80ff5d-8c37-460c-97a1-48484d8c57c7",
   "metadata": {},
   "source": [
    "# Intro to Open Science Studio and JupyterHub\n",
    "\n",
    "## Fast track to login and server setup\n",
    "\n",
    "Go to https://sealevel.oss.eis.smce.nasa.gov and click \"Forgot Password?\" if you don't already have an account.\n",
    "\n",
    "## What is Open Science Studio?\n",
    "\n",
    "\n",
    "## What is JupyterHub?\n",
    "\n",
    "\n",
    "**This is a placeholder and will soon be filled out...thanks for your patience!**"
   ]
  }
 ],
 "metadata": {
  "kernelspec": {
   "display_name": "Python 3 (ipykernel)",
   "language": "python",
   "name": "python3"
  },
  "language_info": {
   "codemirror_mode": {
    "name": "ipython",
    "version": 3
   },
   "file_extension": ".py",
   "mimetype": "text/x-python",
   "name": "python",
   "nbconvert_exporter": "python",
   "pygments_lexer": "ipython3",
   "version": "3.11.9"
  }
 },
 "nbformat": 4,
 "nbformat_minor": 5
}
