{
 "cells": [
  {
   "cell_type": "markdown",
   "id": "b474b95c-0995-4de3-a476-9c8f6d92ea1c",
   "metadata": {},
   "source": [
    "# The Global Ocean Observing System\n",
    "\n",
    "See the `OceanRobots.jl` package [docs here](https://juliaocean.github.io/OceanRobots.jl/dev/examples/OceanOPS.html) for a deeper look."
   ]
  },
  {
   "cell_type": "code",
   "execution_count": 3,
   "id": "c4cf09ec-a2ea-471c-89b9-cebd1df4954b",
   "metadata": {},
   "outputs": [
    {
     "data": {
      "text/plain": [
       "1210-element Vector{Int64}:\n",
       " 1149945\n",
       " 1149963\n",
       " 1149951\n",
       " 1149971\n",
       " 1149940\n",
       " 1149962\n",
       " 1149965\n",
       " 1149939\n",
       " 1149955\n",
       " 1149981\n",
       " 1149961\n",
       " 1149966\n",
       " 1149974\n",
       "       ⋮\n",
       " 1149059\n",
       " 1142822\n",
       " 1149503\n",
       " 1149504\n",
       " 1149505\n",
       " 1145387\n",
       " 1145389\n",
       " 1145390\n",
       " 1151400\n",
       " 1151401\n",
       " 1151403\n",
       " 1151404"
      ]
     },
     "execution_count": 3,
     "metadata": {},
     "output_type": "execute_result"
    }
   ],
   "source": [
    "using OceanRobots\n",
    "nam=:Drifter\n",
    "list_data=OceanOPS.get_list(nam)"
   ]
  },
  {
   "cell_type": "code",
   "execution_count": 4,
   "id": "be94c036-de2c-4e8d-904f-60a3c9a8d8c5",
   "metadata": {},
   "outputs": [
    {
     "data": {
      "text/plain": [
       "(id = \"2101821\", country = \"United States\", status = \"OPERATIONAL\", deployed = \"2021-08-07T00:00:00\", ship = \"ARAON\")"
      ]
     },
     "execution_count": 4,
     "metadata": {},
     "output_type": "execute_result"
    }
   ],
   "source": [
    "id=list_data[1000]\n",
    "meta=OceanOPS.get_platform(id)"
   ]
  },
  {
   "cell_type": "code",
   "execution_count": 2,
   "id": "4651b1f9-0eea-4917-84e4-56fdebff0113",
   "metadata": {},
   "outputs": [
    {
     "data": {
      "text/html": [
       "<div><div style = \"float: left;\"><span>53×5 DataFrame</span></div><div style = \"float: right;\"><span style = \"font-style: italic;\">28 rows omitted</span></div><div style = \"clear: both;\"></div></div><div class = \"data-frame\" style = \"overflow-x: scroll;\"><table class = \"data-frame\" style = \"margin-bottom: 6px;\"><thead><tr class = \"header\"><th class = \"rowNumber\" style = \"font-weight: bold; text-align: right;\">Row</th><th style = \"text-align: left;\">nameShort</th><th style = \"text-align: left;\">name</th><th style = \"text-align: left;\">description</th><th style = \"text-align: left;\">wigosCode</th><th style = \"text-align: left;\">id</th></tr><tr class = \"subheader headerLastRow\"><th class = \"rowNumber\" style = \"font-weight: bold; text-align: right;\"></th><th title = \"String\" style = \"text-align: left;\">String</th><th title = \"String\" style = \"text-align: left;\">String</th><th title = \"Any\" style = \"text-align: left;\">Any</th><th title = \"Any\" style = \"text-align: left;\">Any</th><th title = \"Int64\" style = \"text-align: left;\">Int64</th></tr></thead><tbody><tr><td class = \"rowNumber\" style = \"font-weight: bold; text-align: right;\">1</td><td style = \"text-align: left;\">FLOAT_DEEP</td><td style = \"text-align: left;\">Float Deep</td><td style = \"text-align: left;\">Profiling float that is capable of profiling deeper than 2000dbar </td><td style = \"text-align: left;\">underwaterMobile</td><td style = \"text-align: right;\">1000</td></tr><tr><td class = \"rowNumber\" style = \"font-weight: bold; text-align: right;\">2</td><td style = \"text-align: left;\">FLOAT</td><td style = \"text-align: left;\">Float</td><td style = \"text-align: left;\">Profiling float</td><td style = \"text-align: left;\">underwaterMobile</td><td style = \"text-align: right;\">26</td></tr><tr><td class = \"rowNumber\" style = \"font-weight: bold; text-align: right;\">3</td><td style = \"text-align: left;\">ICE_TETHERED_PROFILER</td><td style = \"text-align: left;\">Ice Tethered Profiler</td><td style = \"text-align: left;\">Surface ice-mounted platform that provides meteorological data and subsurface profiler tethered to a cable that uses a motor to go up and down.</td><td style = \"text-align: left;\">seaOnIce</td><td style = \"text-align: right;\">1001</td></tr><tr><td class = \"rowNumber\" style = \"font-weight: bold; text-align: right;\">4</td><td style = \"text-align: left;\">FLOAT_COASTAL</td><td style = \"text-align: left;\">Float Coastal</td><td style = \"text-align: left;\">Coastal float, i.e. ARVOR_C</td><td style = \"text-align: left;\">underwaterMobile</td><td style = \"text-align: right;\">1002</td></tr><tr><td class = \"rowNumber\" style = \"font-weight: bold; text-align: right;\">5</td><td style = \"text-align: left;\">POLAR_OCEAN_PROFILING_SYSTEM</td><td style = \"text-align: left;\">Polar Ocean Profiling System</td><td style = \"text-align: left;\">Ice platform that provides meteorological data is paired with a subsurface platform, either a PROVORor NEMO float tethered along a cable that uses buoyancy to go up and down.</td><td style = \"text-align: left;\">seaOnIce</td><td style = \"text-align: right;\">1003</td></tr><tr><td class = \"rowNumber\" style = \"font-weight: bold; text-align: right;\">6</td><td style = \"text-align: left;\">ASAP-INT</td><td style = \"text-align: left;\">ASAP INT</td><td style = \"font-style: italic; text-align: left;\"></td><td style = \"text-align: left;\">unknown</td><td style = \"text-align: right;\">1000154</td></tr><tr><td class = \"rowNumber\" style = \"font-weight: bold; text-align: right;\">7</td><td style = \"text-align: left;\">ASAP-DIS</td><td style = \"text-align: left;\">ASAP DIS</td><td style = \"font-style: italic; text-align: left;\"></td><td style = \"text-align: left;\">unknown</td><td style = \"text-align: right;\">1000155</td></tr><tr><td class = \"rowNumber\" style = \"font-weight: bold; text-align: right;\">8</td><td style = \"text-align: left;\">TSUNAMETER</td><td style = \"text-align: left;\">Tsunameter Buoy</td><td style = \"text-align: left;\">Tsunameter Buoy</td><td style = \"text-align: left;\">seaFixed</td><td style = \"text-align: right;\">2000</td></tr><tr><td class = \"rowNumber\" style = \"font-weight: bold; text-align: right;\">9</td><td style = \"text-align: left;\">TROPICAL_MB</td><td style = \"text-align: left;\">Tropical Moored Buoy</td><td style = \"text-align: left;\">Tropical Moored Buoy</td><td style = \"text-align: left;\">seaFixed</td><td style = \"text-align: right;\">2001</td></tr><tr><td class = \"rowNumber\" style = \"font-weight: bold; text-align: right;\">10</td><td style = \"text-align: left;\">GLIDER</td><td style = \"text-align: left;\">Underwater Glider</td><td style = \"font-style: italic; text-align: left;\"></td><td style = \"text-align: left;\">underwaterMobile</td><td style = \"text-align: right;\">2003</td></tr><tr><td class = \"rowNumber\" style = \"font-weight: bold; text-align: right;\">11</td><td style = \"text-align: left;\">VOS_AWS</td><td style = \"text-align: left;\">VOS Automatic Weather Station</td><td style = \"font-style: italic; text-align: left;\"></td><td style = \"text-align: left;\">seaMobile</td><td style = \"text-align: right;\">2009</td></tr><tr><td class = \"rowNumber\" style = \"font-weight: bold; text-align: right;\">12</td><td style = \"text-align: left;\">VOS_MWS</td><td style = \"text-align: left;\">VOS Manual Weather Station</td><td style = \"font-style: italic; text-align: left;\"></td><td style = \"text-align: left;\">seaMobile</td><td style = \"text-align: right;\">2010</td></tr><tr><td class = \"rowNumber\" style = \"font-weight: bold; text-align: right;\">13</td><td style = \"text-align: left;\">DB_POLLUTION</td><td style = \"text-align: left;\">DB POLLUTION</td><td style = \"text-align: left;\">Pollution Tracker</td><td style = \"text-align: left;\">seaMobile</td><td style = \"text-align: right;\">1000091</td></tr><tr><td style = \"text-align: right;\">&vellip;</td><td style = \"text-align: right;\">&vellip;</td><td style = \"text-align: right;\">&vellip;</td><td style = \"text-align: right;\">&vellip;</td><td style = \"text-align: right;\">&vellip;</td><td style = \"text-align: right;\">&vellip;</td></tr><tr><td class = \"rowNumber\" style = \"font-weight: bold; text-align: right;\">42</td><td style = \"text-align: left;\">MEOP_CTD</td><td style = \"text-align: left;\">MEOP-CTD</td><td style = \"text-align: left;\">MEOP-CTD includes the historical platform models of AniBOS. MEOP is the collection of data of Animal Borne Sensor before the launch of AniBOS.</td><td style = \"text-align: left;\">underwaterMobile</td><td style = \"text-align: right;\">1000261</td></tr><tr><td class = \"rowNumber\" style = \"font-weight: bold; text-align: right;\">43</td><td style = \"text-align: left;\">CTD_ROSETTE</td><td style = \"text-align: left;\">CTD_ROSETTE</td><td style = \"font-style: italic; text-align: left;\"></td><td style = \"text-align: left;\">underwaterMobile</td><td style = \"text-align: right;\">1000280</td></tr><tr><td class = \"rowNumber\" style = \"font-weight: bold; text-align: right;\">44</td><td style = \"text-align: left;\">Mooring</td><td style = \"text-align: left;\">Mooring</td><td style = \"font-style: italic; text-align: left;\"></td><td style = \"text-align: left;\">unknown</td><td style = \"text-align: right;\">1000380</td></tr><tr><td class = \"rowNumber\" style = \"font-weight: bold; text-align: right;\">45</td><td style = \"text-align: left;\">SPIT</td><td style = \"text-align: left;\">SPOT POLAR ICE TRACKER</td><td style = \"font-style: italic; text-align: left;\"></td><td style = \"text-align: left;\">seaOnIce</td><td style = \"text-align: right;\">1000400</td></tr><tr><td class = \"rowNumber\" style = \"font-weight: bold; text-align: right;\">46</td><td style = \"text-align: left;\">SailBuoy</td><td style = \"text-align: left;\">SailBuoy</td><td style = \"font-style: italic; text-align: left;\"></td><td style = \"text-align: left;\">unknown</td><td style = \"text-align: right;\">1000420</td></tr><tr><td class = \"rowNumber\" style = \"font-weight: bold; text-align: right;\">47</td><td style = \"text-align: left;\">FFVP</td><td style = \"text-align: left;\">Fixed Fishing Vessels Probes</td><td style = \"font-style: italic; text-align: left;\"></td><td style = \"text-align: left;\">unknown</td><td style = \"text-align: right;\">1000441</td></tr><tr><td class = \"rowNumber\" style = \"font-weight: bold; text-align: right;\">48</td><td style = \"text-align: left;\">MFVP</td><td style = \"text-align: left;\">Mobile Fishing Vessel Probes</td><td style = \"font-style: italic; text-align: left;\"></td><td style = \"text-align: left;\">unknown</td><td style = \"text-align: right;\">1000442</td></tr><tr><td class = \"rowNumber\" style = \"font-weight: bold; text-align: right;\">49</td><td style = \"text-align: left;\">SIMB3</td><td style = \"text-align: left;\">SIMB3</td><td style = \"font-style: italic; text-align: left;\"></td><td style = \"text-align: left;\">unknown</td><td style = \"text-align: right;\">1000520</td></tr><tr><td class = \"rowNumber\" style = \"font-weight: bold; text-align: right;\">50</td><td style = \"text-align: left;\">STOKES</td><td style = \"text-align: left;\">STOKES DRIFTER</td><td style = \"font-style: italic; text-align: left;\"></td><td style = \"text-align: left;\">unknown</td><td style = \"text-align: right;\">1000581</td></tr><tr><td class = \"rowNumber\" style = \"font-weight: bold; text-align: right;\">51</td><td style = \"text-align: left;\">Oshen</td><td style = \"text-align: left;\">Oshen</td><td style = \"font-style: italic; text-align: left;\"></td><td style = \"text-align: left;\">unknown</td><td style = \"text-align: right;\">1000601</td></tr><tr><td class = \"rowNumber\" style = \"font-weight: bold; text-align: right;\">52</td><td style = \"text-align: left;\">SAILDRONE</td><td style = \"text-align: left;\">SailDrone</td><td style = \"text-align: left;\">Sailing Drone</td><td style = \"text-align: left;\">seaMobile</td><td style = \"text-align: right;\">1000221</td></tr><tr><td class = \"rowNumber\" style = \"font-weight: bold; text-align: right;\">53</td><td style = \"text-align: left;\">WAVEGLIDER</td><td style = \"text-align: left;\">WaveGlider</td><td style = \"text-align: left;\">Wave Glider</td><td style = \"text-align: left;\">seaMobile</td><td style = \"text-align: right;\">1000220</td></tr></tbody></table></div>"
      ],
      "text/latex": [
       "\\begin{tabular}{r|cccc}\n",
       "\t& nameShort & name & description & \\\\\n",
       "\t\\hline\n",
       "\t& String & String & Any & \\\\\n",
       "\t\\hline\n",
       "\t1 & FLOAT\\_DEEP & Float Deep & Profiling float that is capable of profiling deeper than 2000dbar  & $\\dots$ \\\\\n",
       "\t2 & FLOAT & Float & Profiling float & $\\dots$ \\\\\n",
       "\t3 & ICE\\_TETHERED\\_PROFILER & Ice Tethered Profiler & Surface ice-mounted platform that provides meteorological data and subsurface profiler tethered to a cable that uses a motor to go up and down. & $\\dots$ \\\\\n",
       "\t4 & FLOAT\\_COASTAL & Float Coastal & Coastal float, i.e. ARVOR\\_C & $\\dots$ \\\\\n",
       "\t5 & POLAR\\_OCEAN\\_PROFILING\\_SYSTEM & Polar Ocean Profiling System & Ice platform that provides meteorological data is paired with a subsurface platform, either a PROVORor NEMO float tethered along a cable that uses buoyancy to go up and down. & $\\dots$ \\\\\n",
       "\t6 & ASAP-INT & ASAP INT &  & $\\dots$ \\\\\n",
       "\t7 & ASAP-DIS & ASAP DIS &  & $\\dots$ \\\\\n",
       "\t8 & TSUNAMETER & Tsunameter Buoy & Tsunameter Buoy & $\\dots$ \\\\\n",
       "\t9 & TROPICAL\\_MB & Tropical Moored Buoy & Tropical Moored Buoy & $\\dots$ \\\\\n",
       "\t10 & GLIDER & Underwater Glider &  & $\\dots$ \\\\\n",
       "\t11 & VOS\\_AWS & VOS Automatic Weather Station &  & $\\dots$ \\\\\n",
       "\t12 & VOS\\_MWS & VOS Manual Weather Station &  & $\\dots$ \\\\\n",
       "\t13 & DB\\_POLLUTION & DB POLLUTION & Pollution Tracker & $\\dots$ \\\\\n",
       "\t14 & MET\\_MB & Meteorological Moored Buoy & Meteorological Moored Buoy & $\\dots$ \\\\\n",
       "\t15 & WAVE\\_MB & Wave Moored Buoy & Wave Moored Buoy & $\\dots$ \\\\\n",
       "\t16 & MB & High-Latitude Moored Buoy & High-Latitude Moored Buoy, default type & $\\dots$ \\\\\n",
       "\t17 & DWS & DWS & DWS Drifting buoys & $\\dots$ \\\\\n",
       "\t18 & ICEBUOY & Ice Buoy & Drifting buoy or other platform on the ice & $\\dots$ \\\\\n",
       "\t19 & SUB\\_M & Subsurface Moored Buoy &  & $\\dots$ \\\\\n",
       "\t20 & FIXED & Fixed Station & Fixed stations & $\\dots$ \\\\\n",
       "\t21 & SVP & SVP & Surface Velocity Program Buoy & $\\dots$ \\\\\n",
       "\t22 & DB\\_CARBON & DB CARBON & Drifting Buoy measuring CO2 & $\\dots$ \\\\\n",
       "\t23 & CMOD & CMOD & The Compact Meteorological and Oceanographic Drifter & $\\dots$ \\\\\n",
       "\t24 & DB\\_SHALLOW & DB SHALLOW & Shallow water drifter & $\\dots$ \\\\\n",
       "\t25 & DAVIS\\_METOCEAN & DAVIS\\_METOCEAN & Davis drifter & $\\dots$ \\\\\n",
       "\t26 & ECHNOC & ECHNOC & ECHNOC & $\\dots$ \\\\\n",
       "\t27 & DB\\_MARISONDE & DB MARISONDE &  & $\\dots$ \\\\\n",
       "\t28 & ASAP & ASAP & Generic ASAP & $\\dots$ \\\\\n",
       "\t29 & XBT & XBT &  & $\\dots$ \\\\\n",
       "\t30 & XCTD & XCTD &  & $\\dots$ \\\\\n",
       "\t$\\dots$ & $\\dots$ & $\\dots$ & $\\dots$ &  \\\\\n",
       "\\end{tabular}\n"
      ],
      "text/plain": [
       "\u001b[1m53×5 DataFrame\u001b[0m\n",
       "\u001b[1m Row \u001b[0m│\u001b[1m nameShort                    \u001b[0m\u001b[1m name                          \u001b[0m\u001b[1m descriptio\u001b[0m ⋯\n",
       "     │\u001b[90m String                       \u001b[0m\u001b[90m String                        \u001b[0m\u001b[90m Any       \u001b[0m ⋯\n",
       "─────┼──────────────────────────────────────────────────────────────────────────\n",
       "   1 │ FLOAT_DEEP                    Float Deep                     Profiling  ⋯\n",
       "   2 │ FLOAT                         Float                          Profiling\n",
       "   3 │ ICE_TETHERED_PROFILER         Ice Tethered Profiler          Surface ic\n",
       "   4 │ FLOAT_COASTAL                 Float Coastal                  Coastal fl\n",
       "   5 │ POLAR_OCEAN_PROFILING_SYSTEM  Polar Ocean Profiling System   Ice platfo ⋯\n",
       "   6 │ ASAP-INT                      ASAP INT                      \u001b[90m           \u001b[0m\n",
       "   7 │ ASAP-DIS                      ASAP DIS                      \u001b[90m           \u001b[0m\n",
       "   8 │ TSUNAMETER                    Tsunameter Buoy                Tsunameter\n",
       "   9 │ TROPICAL_MB                   Tropical Moored Buoy           Tropical M ⋯\n",
       "  10 │ GLIDER                        Underwater Glider             \u001b[90m           \u001b[0m\n",
       "  11 │ VOS_AWS                       VOS Automatic Weather Station \u001b[90m           \u001b[0m\n",
       "  ⋮  │              ⋮                              ⋮                           ⋱\n",
       "  44 │ Mooring                       Mooring                       \u001b[90m           \u001b[0m\n",
       "  45 │ SPIT                          SPOT POLAR ICE TRACKER        \u001b[90m           \u001b[0m ⋯\n",
       "  46 │ SailBuoy                      SailBuoy                      \u001b[90m           \u001b[0m\n",
       "  47 │ FFVP                          Fixed Fishing Vessels Probes  \u001b[90m           \u001b[0m\n",
       "  48 │ MFVP                          Mobile Fishing Vessel Probes  \u001b[90m           \u001b[0m\n",
       "  49 │ SIMB3                         SIMB3                         \u001b[90m           \u001b[0m ⋯\n",
       "  50 │ STOKES                        STOKES DRIFTER                \u001b[90m           \u001b[0m\n",
       "  51 │ Oshen                         Oshen                         \u001b[90m           \u001b[0m\n",
       "  52 │ SAILDRONE                     SailDrone                      Sailing Dr\n",
       "  53 │ WAVEGLIDER                    WaveGlider                     Wave Glide ⋯\n",
       "\u001b[36m                                                   3 columns and 32 rows omitted\u001b[0m"
      ]
     },
     "execution_count": 2,
     "metadata": {},
     "output_type": "execute_result"
    }
   ],
   "source": [
    "list_platform_types=OceanOPS.list_platform_types()"
   ]
  },
  {
   "cell_type": "code",
   "execution_count": null,
   "id": "4cb4a1fb-a03b-402d-9bdc-c0c8a611ef35",
   "metadata": {},
   "outputs": [],
   "source": []
  },
  {
   "cell_type": "code",
   "execution_count": null,
   "id": "539933e1-d11b-4b1e-b145-128745ee973e",
   "metadata": {},
   "outputs": [],
   "source": []
  }
 ],
 "metadata": {
  "kernelspec": {
   "display_name": "Julia 1.10.5",
   "language": "julia",
   "name": "julia-1.10"
  },
  "language_info": {
   "file_extension": ".jl",
   "mimetype": "application/julia",
   "name": "julia",
   "version": "1.10.5"
  }
 },
 "nbformat": 4,
 "nbformat_minor": 5
}
