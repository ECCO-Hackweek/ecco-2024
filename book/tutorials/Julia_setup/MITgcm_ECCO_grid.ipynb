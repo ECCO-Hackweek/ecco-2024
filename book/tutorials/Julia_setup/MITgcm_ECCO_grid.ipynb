{
 "cells": [
  {
   "cell_type": "markdown",
   "id": "b2faacc4-6368-478f-873f-783b683ab9d6",
   "metadata": {},
   "source": [
    "# Geography and Visualization\n",
    "\n",
    "This tutorial focuses on the relation between the gridded space in [MeshArrays.jl](https://juliaclimate.github.io/MeshArrays.jl/dev/) and the geospatial space (longitude, lattitude). A common use case is for plotting in the form of maps. Going back and forth between the two is also often useful for analysis of simulations (transports, averages, etc) and e.g. simulating particle trajectories.\n",
    "\n",
    "**This notebook is adapated from the [Geography Tutorial](https://juliaclimate.github.io/MeshArrays.jl/dev/tutorials/geography.html) found in the [MeshArrays.jl](https://juliaclimate.github.io/MeshArrays.jl/dev/) docs.**\n",
    "\n",
    "## Set Everything Up\n",
    "\n",
    "We use `MeshArrays.jl` to handle gridded variables from MITgcm and ECCO.\n",
    "\n",
    "- install julia packages\n",
    "- use julia packages\n",
    "- read MITgcm grid (LLC90)\n",
    "- ocean basins, sections, zonal averages"
   ]
  },
  {
   "cell_type": "code",
   "execution_count": null,
   "id": "e10a9a23-7437-4135-a543-57e01ea0a96e",
   "metadata": {},
   "outputs": [],
   "source": [
    "begin\n",
    "    if !isdefined(Main,:MeshArrays)\n",
    "        using Pkg; Pkg.activate(temp=true)\n",
    "        Pkg.add.([\"MeshArrays\", \"Climatology\", \"Statistics\",\n",
    "                \"JLD2\", \"Downloads\", \"DataDeps\", \"ZipFile\", \"PlutoUI\",\n",
    "                \"CairoMakie\", \"Proj\", \"GeoJSON\", \"Shapefile\"])\n",
    "    end\n",
    "            \n",
    "\tusing MeshArrays, Climatology, Statistics\n",
    "\tusing JLD2, Downloads, DataDeps, ZipFile, PlutoUI\n",
    "\tusing CairoMakie, Proj, GeoJSON, Shapefile\n",
    "\t\"[done] install and use julia packages\"\n",
    "end"
   ]
  },
  {
   "cell_type": "code",
   "execution_count": null,
   "id": "6432fcf8-87ae-42c1-b35e-259e1bfdfdb4",
   "metadata": {},
   "outputs": [],
   "source": [
    "begin\n",
    "\tpth=MeshArrays.GRID_LLC90\n",
    "\tγ=GridSpec(ID=:LLC90)\n",
    "\tΓ=GridLoad(γ;option=\"light\")\t\n",
    "\n",
    "    LC=LatitudeCircles(-89.0:89.0,Γ)\n",
    "\tbasins=demo.ocean_basins()\n",
    "\tsections,path_sec=demo.ocean_sections(Γ)\n",
    "    println(\"[done] read ECCO4 grid (LLC90) + grid paths (section)\")\n",
    "end"
   ]
  },
  {
   "cell_type": "markdown",
   "id": "e026ac0b-63aa-417a-9816-2541c9b977e1",
   "metadata": {},
   "source": [
    "## Interpolation\n",
    "\n",
    "Here we interpolate from the global grid (see [MeshArrays.jl](https://github.com/JuliaClimate/MeshArrays.jl)) to a set of arbitary locations (longitude, latitude pairs) as is commonly done, for example, to plot gridded fields in geographic coordinates (example below shows Ocean bottom depth) or to compare climate models to sparse field observations (e.g., [Argo profiles](https://github.com/JuliaOcean/ArgoData.jl)).\n",
    "\n",
    "Later in this notebook, we break down the `MeshArrays.Interpolate` function into several steps. In brief, the program finds a grid point quadrilateral (4 grid points) that encloses the target location. Computation is chuncked in subdomains (tiles) to allow for parallelism. `MeshArrays.InterpolationFactors` outputs interpolation coefficients, which can then be reused repeatedly -- e.g. to speed up calls to `MeshArrays.Interpolate` in loops that generate animations."
   ]
  },
  {
   "cell_type": "code",
   "execution_count": null,
   "id": "3b913b65-a60e-4948-a524-e5733cce147b",
   "metadata": {},
   "outputs": [],
   "source": [
    "begin\n",
    "\tλ=interpolation_setup()\n",
    "    hFacC=GridLoadVar(\"hFacC\",γ)\n",
    "    μ=land_mask(hFacC[:,1])\n",
    "\t\n",
    "\tDepth_interpolated=Interpolate(λ.μ*Γ.Depth,λ.f,λ.i,λ.j,λ.w)\n",
    "\tDepth_interpolated=reshape(Depth_interpolated,size(λ.lon))\n",
    "\t#Depth_interpolated[findall(Depth_interpolated.==0.0)].=NaN\n",
    "\n",
    "    println(\"[done] interpolating Γ.Depth to regular grid\")\n",
    "end"
   ]
  },
  {
   "cell_type": "markdown",
   "id": "45e4f299-1791-4347-a1ff-d4430bdd3e77",
   "metadata": {},
   "source": [
    "**note** The rest of this notebook focuses on using fields defined on native ocean model grids --without interpolation to a regular grid. This approach generally allows for improved accuracy calculations in model space.\n",
    "\n",
    "## Domain Decomposition\n",
    "\n",
    "Here we decompose the global domain into 117 tiles of 30 by 30."
   ]
  },
  {
   "cell_type": "code",
   "execution_count": null,
   "id": "7d10cca9-4795-4d46-8d0a-27483f4fc232",
   "metadata": {},
   "outputs": [],
   "source": [
    "begin\n",
    "\tnn=30    \n",
    "\tτ=Tiles(γ,nn,nn)\n",
    "\tXC_tiled=Tiles(τ,Γ.XC)\n",
    "\tYC_tiled=Tiles(τ,Γ.YC)\n",
    "\tDepth_tiled=Tiles(τ,Γ.Depth)\n",
    "    size(Depth_tiled)\n",
    "end"
   ]
  },
  {
   "cell_type": "code",
   "execution_count": null,
   "id": "b23b94b7-1152-47e4-b768-f6c84aac54e6",
   "metadata": {
    "scrolled": true
   },
   "outputs": [],
   "source": [
    "begin\n",
    "    mm=Int(round(size(Γ.XC[3],1)/nn))\n",
    "\too=Int(floor(mm*mm*13/10))\n",
    "    ii=(1:mm*mm*13)[oo]\n",
    "\n",
    "    fig_tile=heatmap(Γ.Depth,interpolation=λ,colormap=:grayC,colorbar=false)\n",
    "    scatter!(current_axis(),XC_tiled[ii][:],YC_tiled[ii][:],color=Depth_tiled[ii][:],\n",
    "            markersize=4.0,colormap=:thermal,colorrange=(0.0,6000.0))\n",
    "    fig_tile\n",
    "end"
   ]
  },
  {
   "cell_type": "markdown",
   "id": "ce147279-da31-40a4-b9d1-e7db1838c1bf",
   "metadata": {},
   "source": [
    "## LLC90 Grid Faces\n",
    "\n",
    "These are the larger areas that MITgcm defines. Tiles are chunks of faces."
   ]
  },
  {
   "cell_type": "code",
   "execution_count": null,
   "id": "38cd6181-946a-46a1-ae9f-09f6fccda007",
   "metadata": {},
   "outputs": [],
   "source": [
    "# ╔═╡ a8defb50-fce4-4a0b-ac33-deb95f0b826b\n",
    "begin\n",
    "    faceID=3\n",
    "    fig_area=scatter(Γ.XC,Γ.YC,color=:black,markersize=2.0,)\n",
    "    MS=log10.(Γ.RAC)*μ\n",
    "    scatter!(current_axis(),Γ.XC[faceID][:],Γ.YC[faceID][:],color=MS[faceID][:],\n",
    "\t\t\t\tcolorrange = (8.8,10.2),markersize=3.0,colormap=:thermal)\n",
    "    fig_area\n",
    "end"
   ]
  },
  {
   "cell_type": "markdown",
   "id": "1f6a659c-c232-4249-be44-46c5b693f1cb",
   "metadata": {},
   "source": [
    "## Calculating transports between two end-points"
   ]
  },
  {
   "cell_type": "code",
   "execution_count": null,
   "id": "c160a47f-79e8-41f8-aa38-2814f5dc53ae",
   "metadata": {},
   "outputs": [],
   "source": [
    "begin\n",
    "    lon1=20.0; lon2=-63.0; lat1=-20.0; lat2=-66.0\n",
    "    lons=[lon1 lon2]; lats=[lat1 lat2]\n",
    "    my_section=demo.one_section(Γ,lons,lats)\n",
    "\n",
    "\tfig_section=heatmap(λ.μ*Γ.Depth,interpolation=λ,colormap=:spring)\n",
    "\tax=current_axis(fig_section)\n",
    "\tscatter!(ax,my_section.lon[:],my_section.lat[:],color=:blue,markersize=2.0)\n",
    "\tscatter!(ax,my_section.lon[:],my_section.lat[:],color=:black,markersize=4.0)\n",
    "\tscatter!(ax,lons[:],lats[:],color=:blue)\n",
    "\tfig_section\n",
    "end"
   ]
  },
  {
   "cell_type": "markdown",
   "id": "aa3dcde8-3d0a-4161-b0f4-7f6eefc3e567",
   "metadata": {},
   "source": [
    "## Regional Masks\n",
    "\n",
    "There are many ways to split up the global domain into Oceans, Seas, etc. Here is one example."
   ]
  },
  {
   "cell_type": "code",
   "execution_count": null,
   "id": "2aba3469-93e4-4d1e-b5ff-def8d33e28fd",
   "metadata": {},
   "outputs": [],
   "source": [
    "# ╔═╡ 2afc6934-9e07-46bf-a4f1-df33ce5a6fe9\n",
    "begin\n",
    "    basin_ID=1\n",
    "    jj=findall(basins.mask.==basin_ID)\n",
    "    fig_basins=scatter(Γ.XC,Γ.YC,color=basins.mask*μ,colormap=:lisbon,markersize=3.0)\n",
    "    [scatter!(current_axis(),Γ.XC[jj][k],Γ.YC[jj][k],color=:red,markersize=3) for k in 1:length(jj)] \n",
    "    fig_basins\n",
    "end"
   ]
  },
  {
   "cell_type": "markdown",
   "id": "ab600644-d062-4761-872f-da3d91bba1e4",
   "metadata": {},
   "source": [
    "## Polygons on Maps"
   ]
  },
  {
   "cell_type": "code",
   "execution_count": null,
   "id": "e3a26d1e-399e-49fb-b163-a977f1cb7815",
   "metadata": {},
   "outputs": [],
   "source": [
    "begin\n",
    "    source=[:shp_example,:json_example][1]\n",
    "\tlon0=-160.0\n",
    "    \"[done] set parameters for plots\"\n",
    "end"
   ]
  },
  {
   "cell_type": "code",
   "execution_count": null,
   "id": "53a286ab-0065-4097-a533-d16c9c90449d",
   "metadata": {},
   "outputs": [],
   "source": [
    "# ╔═╡ 229d395f-f3b4-40df-a482-264d540be875\n",
    "begin\n",
    "\tif source==:shp_example\n",
    "\t\tfil=demo.download_polygons(\"ne_110m_admin_0_countries.shp\")\n",
    "\telseif source==:json_example\n",
    "\t\tfil=demo.download_polygons(\"countries.geojson\")\n",
    "\tend\n",
    "\tpol=MeshArrays.read_polygons(fil)\n",
    "\t\"Done With Reading Country Polygons\"\n",
    "end\n",
    "\n",
    "# ╔═╡ 54f6cb2f-025e-40e4-97a8-0f8ad4b35278\n",
    "begin\n",
    "\tfig_polygons=Figure()\n",
    "\tax1=Axis(fig_polygons[1,1])\n",
    "\t[lines!(ax1,l1,color = :black, linewidth = 0.5) for l1 in pol]\n",
    "\tfig_polygons\n",
    "end"
   ]
  },
  {
   "cell_type": "markdown",
   "id": "cac10369-be46-4d89-8faa-405b275b592f",
   "metadata": {},
   "source": [
    "## Geographic Projection"
   ]
  },
  {
   "cell_type": "code",
   "execution_count": null,
   "id": "38021c84-e3a6-408e-afdb-da9b6b7ac196",
   "metadata": {},
   "outputs": [],
   "source": [
    "# ╔═╡ 41960267-fff9-4bc4-a7bc-aceea2217c63\n",
    "begin\n",
    "\tmeta=(colorrange=(0.0,6000.0),cmap=:berlin,gridcolor=:lightgreen,ttl=\"Ocean Depth (m)\")\n",
    "\tdata=(lon=λ.lon,lat=λ.lat,var=Depth_interpolated,meta=meta,polygons=pol)\n",
    "end\n",
    "\n",
    "# ╔═╡ d448431e-13a9-440c-9463-9174d7400cf1\n",
    "begin\n",
    "    proj_ID=1\n",
    "    proj_name=[\"wintri\",\"natearth2\",\"longlat\"]\n",
    "    proj=Proj.Transformation(MA_preset=proj_ID,lon0=lon0)\n",
    "end\n",
    "\n",
    "# ╔═╡ 485f16de-b324-43a5-a634-783381910556\n",
    "fig0=let\n",
    "\tf = Figure()\n",
    "    ax = f[1, 1] = Axis(f, aspect = DataAspect(), title = \"Ocean Depth (m)\")\n",
    "\n",
    "\tpr_ax=MeshArrays.ProjAxis(ax; proj=proj,lon0=lon0)\n",
    "    \n",
    "\tsurf = surface!(pr_ax,λ.lon,λ.lat,0*λ.lat; color=Depth_interpolated, \n",
    "\t\t\tcolorrange=(0.0,6000.0), colormap=:berlin, shading = NoShading)\n",
    "\tlines!(pr_ax; polygons=pol,color=:black,linewidth=0.5)\n",
    "\t#y1=-90:5:90; x1=lon0.+0*y1; scatter!(pr_ax,x1,y1,color=:yellow,markersize=5,marker=:x)\n",
    "\tMeshArrays.grid_lines!(pr_ax;color=:lightgreen,linewidth=0.5)\n",
    "\n",
    "\tColorbar(f[1,2], surf, height = Relative(0.5))\n",
    "\tf\n",
    "end"
   ]
  },
  {
   "cell_type": "markdown",
   "id": "e77280c1-fb11-4cb9-bb60-fb1d489ba49e",
   "metadata": {},
   "source": [
    "## Zonal Averaging Detail"
   ]
  },
  {
   "cell_type": "code",
   "execution_count": null,
   "id": "d2a926b7-c86a-473a-9751-d333eddc0caf",
   "metadata": {},
   "outputs": [],
   "source": [
    "# ╔═╡ 897a49b2-9763-4020-a476-5e0fccda1cfb\n",
    "begin\n",
    "\tLC=LatitudeCircles(79.0,Γ)\n",
    "\taa=LC.C\n",
    "\tlocClat=( lon=[Γ.XC[aa[i,1]][aa[i,2],aa[i,3]] for i in 1:size(aa,1)],\n",
    "\t\t\t\tlat=[Γ.YC[aa[i,1]][aa[i,2],aa[i,3]] for i in 1:size(aa,1)])\n",
    "\t\"Done with latitude line\"\n",
    "end"
   ]
  },
  {
   "cell_type": "markdown",
   "id": "34be3cc7-c11f-4a48-9eff-1205a4bcc71c",
   "metadata": {},
   "source": [
    "## Interpolation Scheme Detail\n",
    "\n",
    "The Interpolation Code? Let's Break It Down:\n",
    "\n",
    "- find nearest neighbor (`MeshArray` & `set`)\n",
    "- define subdomain tiles (`MeshArray` -> `tiles`)\n",
    "- exchange and start loop (`tile` & `subset`)\n",
    "    - local stereographic projection\n",
    "    - define array of quadrilaterals\n",
    "    - find enclosing quadrilaterals\n",
    "    - compute interpolation coefficients"
   ]
  },
  {
   "cell_type": "code",
   "execution_count": null,
   "id": "f1c5b193-7a0c-4e30-a2d5-d9fa911dfae0",
   "metadata": {},
   "outputs": [],
   "source": [
    "(fig1,fig2,fig3)=MeshArrays.plot_examples(:interpolation_demo,Γ);"
   ]
  }
 ],
 "metadata": {
  "kernelspec": {
   "display_name": "Julia 1.10.5",
   "language": "julia",
   "name": "julia-1.10"
  },
  "language_info": {
   "file_extension": ".jl",
   "mimetype": "application/julia",
   "name": "julia",
   "version": "1.10.5"
  }
 },
 "nbformat": 4,
 "nbformat_minor": 5
}
