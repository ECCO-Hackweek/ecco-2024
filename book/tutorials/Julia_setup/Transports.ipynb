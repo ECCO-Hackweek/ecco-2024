{
 "cells": [
  {
   "cell_type": "markdown",
   "id": "a6dc985c-1ca1-46a2-a4d8-15bd666a0a3f",
   "metadata": {},
   "source": [
    "# Ocean Transports in ECCO\n",
    "\n",
    "See https://juliaocean.github.io/Climatology.jl/dev/examples/ECCO_standard_plots.html , https://juliaclimate.github.io/MeshArrays.jl/dev/tutorials/vectors.html , and https://juliaclimate.github.io/IndividualDisplacements.jl/dev/examples/three_dimensional_ocean.html"
   ]
  },
  {
   "cell_type": "code",
   "execution_count": null,
   "id": "94c693a6-775a-4270-8d53-735a64bf4609",
   "metadata": {},
   "outputs": [],
   "source": []
  }
 ],
 "metadata": {
  "kernelspec": {
   "display_name": "Julia 1.10.5",
   "language": "julia",
   "name": "julia-1.10"
  },
  "language_info": {
   "file_extension": ".jl",
   "mimetype": "application/julia",
   "name": "julia",
   "version": "1.10.5"
  }
 },
 "nbformat": 4,
 "nbformat_minor": 5
}
