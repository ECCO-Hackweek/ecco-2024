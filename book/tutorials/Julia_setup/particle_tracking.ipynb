{
 "cells": [
  {
   "cell_type": "markdown",
   "id": "75d07a0d-c1c1-41c1-9a90-443ef88e3ce9",
   "metadata": {},
   "source": [
    "# Particle Tracking in the Ocean\n",
    "\n",
    "See the [IndividualDisplacements.jl](https://juliaclimate.github.io/IndividualDisplacements.jl/dev/) package docs that provides many example.\n",
    "\n",
    "_note : you can also use MITgcm/pkg/flt to do this._\n"
   ]
  },
  {
   "cell_type": "code",
   "execution_count": null,
   "id": "e4ace275-0238-402f-9cfe-c3a4174f2f7f",
   "metadata": {},
   "outputs": [],
   "source": []
  }
 ],
 "metadata": {
  "kernelspec": {
   "display_name": "Julia 1.10.5",
   "language": "julia",
   "name": "julia-1.10"
  },
  "language_info": {
   "file_extension": ".jl",
   "mimetype": "application/julia",
   "name": "julia",
   "version": "1.10.5"
  }
 },
 "nbformat": 4,
 "nbformat_minor": 5
}
