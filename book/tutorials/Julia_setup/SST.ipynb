{
 "cells": [
  {
   "cell_type": "markdown",
   "id": "98be0123-83d3-4b05-8361-0bc63c0c21f2",
   "metadata": {},
   "source": [
    "# Sea Surface Temperatures\n",
    "\n",
    "See https://juliaocean.github.io/Climatology.jl/dev/examples/sst_anomaly_notebook.html"
   ]
  },
  {
   "cell_type": "code",
   "execution_count": null,
   "id": "032a4958-67d8-4d53-aab7-c7d54c6204f8",
   "metadata": {},
   "outputs": [],
   "source": []
  }
 ],
 "metadata": {
  "kernelspec": {
   "display_name": "Julia 1.10.5",
   "language": "julia",
   "name": "julia-1.10"
  },
  "language_info": {
   "file_extension": ".jl",
   "mimetype": "application/julia",
   "name": "julia",
   "version": "1.10.5"
  }
 },
 "nbformat": 4,
 "nbformat_minor": 5
}
