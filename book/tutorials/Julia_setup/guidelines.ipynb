{
 "cells": [
  {
   "cell_type": "markdown",
   "id": "bd5e97dc-38b9-4f96-9129-a9e9af845739",
   "metadata": {},
   "source": [
    "\n",
    "## 1. install julia\n",
    "\n",
    "In bash (i.e., terminal window default prompt) : \n",
    "\n",
    "```\n",
    "#https://julialang.org/downloads/\n",
    "curl -fsSL https://install.julialang.org | sh\n",
    "\n",
    ". /home/gforget2/.bashrc\n",
    "\n",
    "julia\n",
    "```\n",
    "\n",
    "## 2. install and try MITgcm.jl\n",
    "\n",
    "Now in julia\n",
    "\n",
    "```\n",
    "using Pkg; Pkg.add(\"MITgcm\")\n",
    "Pkg.test(\"MITgcm\")\n",
    "```\n",
    "\n"
   ]
  },
  {
   "cell_type": "code",
   "execution_count": null,
   "id": "e44c0df4-2437-4c4b-a325-1502c998493e",
   "metadata": {},
   "outputs": [],
   "source": []
  }
 ],
 "metadata": {
  "kernelspec": {
   "display_name": "Julia 1.10.5",
   "language": "julia",
   "name": "julia-1.10"
  },
  "language_info": {
   "file_extension": ".jl",
   "mimetype": "application/julia",
   "name": "julia",
   "version": "1.10.5"
  }
 },
 "nbformat": 4,
 "nbformat_minor": 5
}
