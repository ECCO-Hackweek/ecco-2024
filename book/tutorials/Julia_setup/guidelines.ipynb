{
 "cells": [
  {
   "cell_type": "markdown",
   "id": "bd5e97dc-38b9-4f96-9129-a9e9af845739",
   "metadata": {},
   "source": [
    "# Guidelines\n",
    "\n",
    "## 1. install julia\n",
    "\n",
    "In bash (i.e., terminal window default prompt) : \n",
    "\n",
    "```\n",
    "#https://julialang.org/downloads/\n",
    "curl -fsSL https://install.julialang.org | sh\n",
    "\n",
    ". /home/gforget2/.bashrc\n",
    "```\n",
    "\n",
    "## 2. install modules to run MITgcm\n",
    "\n",
    "```\n",
    "module purge\n",
    "source /shared/spack/share/spack/setup-env.sh\n",
    "module add openmpi-4.1.1-gcc-9.4.0-jgsdvep\n",
    "module add netcdf-fortran-4.5.3-gcc-11.1.0-d35hzyr\n",
    "```\n",
    "\n",
    "or \n",
    "\n",
    "```\n",
    "git clone https://github.com/ECCO-Hackweek/ecco-2024\n",
    "source ecco-2024/book/tutorials/Julia_setup/setup_modules.csh\n",
    "```\n",
    "\n",
    "## 2. install and try MITgcm.jl\n",
    "\n",
    "Now in julia\n",
    "\n",
    "```\n",
    "using Pkg; Pkg.add(\"MITgcm\")\n",
    "Pkg.test(\"MITgcm\")\n",
    "```\n",
    "\n"
   ]
  }
 ],
 "metadata": {
  "kernelspec": {
   "display_name": "Julia 1.10.5",
   "language": "julia",
   "name": "julia-1.10"
  },
  "language_info": {
   "file_extension": ".jl",
   "mimetype": "application/julia",
   "name": "julia",
   "version": "1.10.5"
  }
 },
 "nbformat": 4,
 "nbformat_minor": 5
}
