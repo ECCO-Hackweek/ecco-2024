{
 "cells": [
  {
   "cell_type": "markdown",
   "id": "bd5e97dc-38b9-4f96-9129-a9e9af845739",
   "metadata": {},
   "source": [
    "# Running MITgcm from Julia\n",
    "\n",
    "_note : for now we just show the method that corresponds to MITgcm's testreport. The more general method should likely be highlighted instead._"
   ]
  },
  {
   "cell_type": "code",
   "execution_count": 1,
   "id": "e44c0df4-2437-4c4b-a325-1502c998493e",
   "metadata": {},
   "outputs": [
    {
     "name": "stderr",
     "output_type": "stream",
     "text": [
      "\u001b[32m\u001b[1m   Resolving\u001b[22m\u001b[39m package versions...\n",
      "\u001b[32m\u001b[1m  No Changes\u001b[22m\u001b[39m to `~/.julia/environments/v1.10/Project.toml`\n",
      "\u001b[32m\u001b[1m  No Changes\u001b[22m\u001b[39m to `~/.julia/environments/v1.10/Manifest.toml`\n"
     ]
    }
   ],
   "source": [
    "if !isdefined(Main,:MITgcm)\n",
    "    using Pkg; Pkg.add(\"MITgcm\")\n",
    "\n",
    "    #From within jupyter it seems that MITgcm fails to detect the correct optfile (darwin_arm64_gfortran in my case):\n",
    "    #   Pkg.test(\"MITgcm\")\n",
    "    #see also :\n",
    "    # system_check()\n",
    "end\n",
    "\n",
    "using MITgcm"
   ]
  },
  {
   "cell_type": "code",
   "execution_count": 2,
   "id": "70ad385e-226d-4029-a7f7-4e55c7c9faaa",
   "metadata": {},
   "outputs": [],
   "source": [
    "path0=MITgcm.default_path()\n",
    "MC=MITgcm_config(configuration=\"flt_example\")\n",
    "a=MITgcm.build_options_default[1]*\" -optfile=../../../tools/build_options/darwin_arm64_gfortran\"\n",
    "b=\"-optfile=../../../\"\n",
    "!occursin(b,a) ? opt=\"\" : opt=\"-optfile=\"*joinpath(path0,split(a,b)[2]);"
   ]
  },
  {
   "cell_type": "code",
   "execution_count": 3,
   "id": "fe55d3c3-a720-4abc-9e0d-4a2af0c696da",
   "metadata": {},
   "outputs": [
    {
     "name": "stdout",
     "output_type": "stream",
     "text": [
      "/private/var/folders/vn/3r695jqd3177cw09wdmf3z940000gn/T/jl_HERwXe5MXu\n"
     ]
    }
   ],
   "source": [
    "tmp=testreport(MC,opt);"
   ]
  },
  {
   "cell_type": "code",
   "execution_count": 4,
   "id": "864f57e6-56f5-462b-9b47-dfa44934b1ca",
   "metadata": {},
   "outputs": [
    {
     "data": {
      "text/html": [
       "<div><div style = \"float: left;\"><span>420×14 DataFrame</span></div><div style = \"float: right;\"><span style = \"font-style: italic;\">395 rows omitted</span></div><div style = \"clear: both;\"></div></div><div class = \"data-frame\" style = \"overflow-x: scroll;\"><table class = \"data-frame\" style = \"margin-bottom: 6px;\"><thead><tr class = \"header\"><th class = \"rowNumber\" style = \"font-weight: bold; text-align: right;\">Row</th><th style = \"text-align: left;\">ID</th><th style = \"text-align: left;\">time</th><th style = \"text-align: left;\">lon</th><th style = \"text-align: left;\">lat</th><th style = \"text-align: left;\">dep</th><th style = \"text-align: left;\">i</th><th style = \"text-align: left;\">j</th><th style = \"text-align: left;\">k</th><th style = \"text-align: left;\">etaN</th><th style = \"text-align: left;\">uVel</th><th style = \"text-align: left;\">vVel</th><th style = \"text-align: left;\">theta</th><th style = \"text-align: left;\">salt</th><th style = \"text-align: left;\">tile</th></tr><tr class = \"subheader headerLastRow\"><th class = \"rowNumber\" style = \"font-weight: bold; text-align: right;\"></th><th title = \"Int64\" style = \"text-align: left;\">Int64</th><th title = \"Int64\" style = \"text-align: left;\">Int64</th><th title = \"Float32\" style = \"text-align: left;\">Float32</th><th title = \"Float32\" style = \"text-align: left;\">Float32</th><th title = \"Float32\" style = \"text-align: left;\">Float32</th><th title = \"Float32\" style = \"text-align: left;\">Float32</th><th title = \"Float32\" style = \"text-align: left;\">Float32</th><th title = \"Float32\" style = \"text-align: left;\">Float32</th><th title = \"Float32\" style = \"text-align: left;\">Float32</th><th title = \"Float32\" style = \"text-align: left;\">Float32</th><th title = \"Float32\" style = \"text-align: left;\">Float32</th><th title = \"Float32\" style = \"text-align: left;\">Float32</th><th title = \"Float32\" style = \"text-align: left;\">Float32</th><th title = \"Int64\" style = \"text-align: left;\">Int64</th></tr></thead><tbody><tr><td class = \"rowNumber\" style = \"font-weight: bold; text-align: right;\">1</td><td style = \"text-align: right;\">1</td><td style = \"text-align: right;\">3600</td><td style = \"text-align: right;\">117500.0</td><td style = \"text-align: right;\">97500.4</td><td style = \"text-align: right;\">-2531.25</td><td style = \"text-align: right;\">24.0</td><td style = \"text-align: right;\">20.0001</td><td style = \"text-align: right;\">5.0</td><td style = \"text-align: right;\">0.000108853</td><td style = \"text-align: right;\">2.28572e-5</td><td style = \"text-align: right;\">0.000293337</td><td style = \"text-align: right;\">-0.0995471</td><td style = \"text-align: right;\">35.0</td><td style = \"text-align: right;\">1</td></tr><tr><td class = \"rowNumber\" style = \"font-weight: bold; text-align: right;\">2</td><td style = \"text-align: right;\">2</td><td style = \"text-align: right;\">3600</td><td style = \"text-align: right;\">137500.0</td><td style = \"text-align: right;\">97500.5</td><td style = \"text-align: right;\">-2531.25</td><td style = \"text-align: right;\">28.0</td><td style = \"text-align: right;\">20.0001</td><td style = \"text-align: right;\">5.0</td><td style = \"text-align: right;\">0.000125795</td><td style = \"text-align: right;\">1.72759e-5</td><td style = \"text-align: right;\">0.00031245</td><td style = \"text-align: right;\">-0.0995473</td><td style = \"text-align: right;\">35.0</td><td style = \"text-align: right;\">1</td></tr><tr><td class = \"rowNumber\" style = \"font-weight: bold; text-align: right;\">3</td><td style = \"text-align: right;\">3</td><td style = \"text-align: right;\">3600</td><td style = \"text-align: right;\">167500.0</td><td style = \"text-align: right;\">97500.6</td><td style = \"text-align: right;\">-2531.25</td><td style = \"text-align: right;\">34.0</td><td style = \"text-align: right;\">20.0001</td><td style = \"text-align: right;\">5.0</td><td style = \"text-align: right;\">0.000176366</td><td style = \"text-align: right;\">-6.00037e-6</td><td style = \"text-align: right;\">0.000392465</td><td style = \"text-align: right;\">-0.099548</td><td style = \"text-align: right;\">35.0</td><td style = \"text-align: right;\">1</td></tr><tr><td class = \"rowNumber\" style = \"font-weight: bold; text-align: right;\">4</td><td style = \"text-align: right;\">21</td><td style = \"text-align: right;\">3600</td><td style = \"text-align: right;\">117500.0</td><td style = \"text-align: right;\">97500.4</td><td style = \"text-align: right;\">-2531.25</td><td style = \"text-align: right;\">24.0</td><td style = \"text-align: right;\">20.0001</td><td style = \"text-align: right;\">5.0</td><td style = \"text-align: right;\">0.000108853</td><td style = \"text-align: right;\">2.28572e-5</td><td style = \"text-align: right;\">0.000293337</td><td style = \"text-align: right;\">-0.0995471</td><td style = \"text-align: right;\">35.0</td><td style = \"text-align: right;\">1</td></tr><tr><td class = \"rowNumber\" style = \"font-weight: bold; text-align: right;\">5</td><td style = \"text-align: right;\">22</td><td style = \"text-align: right;\">3600</td><td style = \"text-align: right;\">137500.0</td><td style = \"text-align: right;\">97500.5</td><td style = \"text-align: right;\">-2531.25</td><td style = \"text-align: right;\">28.0</td><td style = \"text-align: right;\">20.0001</td><td style = \"text-align: right;\">5.0</td><td style = \"text-align: right;\">0.000125795</td><td style = \"text-align: right;\">1.72759e-5</td><td style = \"text-align: right;\">0.00031245</td><td style = \"text-align: right;\">-0.0995473</td><td style = \"text-align: right;\">35.0</td><td style = \"text-align: right;\">1</td></tr><tr><td class = \"rowNumber\" style = \"font-weight: bold; text-align: right;\">6</td><td style = \"text-align: right;\">23</td><td style = \"text-align: right;\">3600</td><td style = \"text-align: right;\">167500.0</td><td style = \"text-align: right;\">97500.6</td><td style = \"text-align: right;\">-2531.25</td><td style = \"text-align: right;\">34.0</td><td style = \"text-align: right;\">20.0001</td><td style = \"text-align: right;\">5.0</td><td style = \"text-align: right;\">0.000176366</td><td style = \"text-align: right;\">-6.00037e-6</td><td style = \"text-align: right;\">0.000392465</td><td style = \"text-align: right;\">-0.099548</td><td style = \"text-align: right;\">35.0</td><td style = \"text-align: right;\">1</td></tr><tr><td class = \"rowNumber\" style = \"font-weight: bold; text-align: right;\">7</td><td style = \"text-align: right;\">41</td><td style = \"text-align: right;\">3600</td><td style = \"text-align: right;\">117500.0</td><td style = \"text-align: right;\">97500.0</td><td style = \"text-align: right;\">-2531.25</td><td style = \"text-align: right;\">24.0</td><td style = \"text-align: right;\">20.0</td><td style = \"text-align: right;\">5.0</td><td style = \"text-align: right;\">-999.0</td><td style = \"text-align: right;\">-999.0</td><td style = \"text-align: right;\">-999.0</td><td style = \"text-align: right;\">-999.0</td><td style = \"text-align: right;\">-999.0</td><td style = \"text-align: right;\">1</td></tr><tr><td class = \"rowNumber\" style = \"font-weight: bold; text-align: right;\">8</td><td style = \"text-align: right;\">42</td><td style = \"text-align: right;\">3600</td><td style = \"text-align: right;\">137500.0</td><td style = \"text-align: right;\">97500.0</td><td style = \"text-align: right;\">-2531.25</td><td style = \"text-align: right;\">28.0</td><td style = \"text-align: right;\">20.0</td><td style = \"text-align: right;\">5.0</td><td style = \"text-align: right;\">-999.0</td><td style = \"text-align: right;\">-999.0</td><td style = \"text-align: right;\">-999.0</td><td style = \"text-align: right;\">-999.0</td><td style = \"text-align: right;\">-999.0</td><td style = \"text-align: right;\">1</td></tr><tr><td class = \"rowNumber\" style = \"font-weight: bold; text-align: right;\">9</td><td style = \"text-align: right;\">43</td><td style = \"text-align: right;\">3600</td><td style = \"text-align: right;\">167500.0</td><td style = \"text-align: right;\">97500.0</td><td style = \"text-align: right;\">-2531.25</td><td style = \"text-align: right;\">34.0</td><td style = \"text-align: right;\">20.0</td><td style = \"text-align: right;\">5.0</td><td style = \"text-align: right;\">-999.0</td><td style = \"text-align: right;\">-999.0</td><td style = \"text-align: right;\">-999.0</td><td style = \"text-align: right;\">-999.0</td><td style = \"text-align: right;\">-999.0</td><td style = \"text-align: right;\">1</td></tr><tr><td class = \"rowNumber\" style = \"font-weight: bold; text-align: right;\">10</td><td style = \"text-align: right;\">61</td><td style = \"text-align: right;\">3600</td><td style = \"text-align: right;\">117500.0</td><td style = \"text-align: right;\">97500.0</td><td style = \"text-align: right;\">-2531.25</td><td style = \"text-align: right;\">24.0</td><td style = \"text-align: right;\">20.0</td><td style = \"text-align: right;\">5.0</td><td style = \"text-align: right;\">-999.0</td><td style = \"text-align: right;\">-999.0</td><td style = \"text-align: right;\">-999.0</td><td style = \"text-align: right;\">-999.0</td><td style = \"text-align: right;\">-999.0</td><td style = \"text-align: right;\">1</td></tr><tr><td class = \"rowNumber\" style = \"font-weight: bold; text-align: right;\">11</td><td style = \"text-align: right;\">62</td><td style = \"text-align: right;\">3600</td><td style = \"text-align: right;\">137500.0</td><td style = \"text-align: right;\">97500.0</td><td style = \"text-align: right;\">-2531.25</td><td style = \"text-align: right;\">28.0</td><td style = \"text-align: right;\">20.0</td><td style = \"text-align: right;\">5.0</td><td style = \"text-align: right;\">-999.0</td><td style = \"text-align: right;\">-999.0</td><td style = \"text-align: right;\">-999.0</td><td style = \"text-align: right;\">-999.0</td><td style = \"text-align: right;\">-999.0</td><td style = \"text-align: right;\">1</td></tr><tr><td class = \"rowNumber\" style = \"font-weight: bold; text-align: right;\">12</td><td style = \"text-align: right;\">63</td><td style = \"text-align: right;\">3600</td><td style = \"text-align: right;\">167500.0</td><td style = \"text-align: right;\">97500.0</td><td style = \"text-align: right;\">-2531.25</td><td style = \"text-align: right;\">34.0</td><td style = \"text-align: right;\">20.0</td><td style = \"text-align: right;\">5.0</td><td style = \"text-align: right;\">-999.0</td><td style = \"text-align: right;\">-999.0</td><td style = \"text-align: right;\">-999.0</td><td style = \"text-align: right;\">-999.0</td><td style = \"text-align: right;\">-999.0</td><td style = \"text-align: right;\">1</td></tr><tr><td class = \"rowNumber\" style = \"font-weight: bold; text-align: right;\">13</td><td style = \"text-align: right;\">81</td><td style = \"text-align: right;\">3600</td><td style = \"text-align: right;\">97500.0</td><td style = \"text-align: right;\">97500.0</td><td style = \"text-align: right;\">-1968.75</td><td style = \"text-align: right;\">20.0</td><td style = \"text-align: right;\">20.0</td><td style = \"text-align: right;\">4.0</td><td style = \"text-align: right;\">9.8633e-5</td><td style = \"text-align: right;\">2.56849e-5</td><td style = \"text-align: right;\">0.000284589</td><td style = \"text-align: right;\">0.0995485</td><td style = \"text-align: right;\">35.0</td><td style = \"text-align: right;\">1</td></tr><tr><td style = \"text-align: right;\">&vellip;</td><td style = \"text-align: right;\">&vellip;</td><td style = \"text-align: right;\">&vellip;</td><td style = \"text-align: right;\">&vellip;</td><td style = \"text-align: right;\">&vellip;</td><td style = \"text-align: right;\">&vellip;</td><td style = \"text-align: right;\">&vellip;</td><td style = \"text-align: right;\">&vellip;</td><td style = \"text-align: right;\">&vellip;</td><td style = \"text-align: right;\">&vellip;</td><td style = \"text-align: right;\">&vellip;</td><td style = \"text-align: right;\">&vellip;</td><td style = \"text-align: right;\">&vellip;</td><td style = \"text-align: right;\">&vellip;</td><td style = \"text-align: right;\">&vellip;</td></tr><tr><td class = \"rowNumber\" style = \"font-weight: bold; text-align: right;\">409</td><td style = \"text-align: right;\">102</td><td style = \"text-align: right;\">10800</td><td style = \"text-align: right;\">2.0e5</td><td style = \"text-align: right;\">1.59998e5</td><td style = \"text-align: right;\">-1406.25</td><td style = \"text-align: right;\">40.5001</td><td style = \"text-align: right;\">32.4996</td><td style = \"text-align: right;\">3.0</td><td style = \"text-align: right;\">-0.00228578</td><td style = \"text-align: right;\">9.15741e-5</td><td style = \"text-align: right;\">-0.000480871</td><td style = \"text-align: right;\">0.298353</td><td style = \"text-align: right;\">35.0</td><td style = \"text-align: right;\">4</td></tr><tr><td class = \"rowNumber\" style = \"font-weight: bold; text-align: right;\">410</td><td style = \"text-align: right;\">124</td><td style = \"text-align: right;\">10800</td><td style = \"text-align: right;\">2.70001e5</td><td style = \"text-align: right;\">1.25009e5</td><td style = \"text-align: right;\">-3093.75</td><td style = \"text-align: right;\">54.5003</td><td style = \"text-align: right;\">25.5017</td><td style = \"text-align: right;\">6.0</td><td style = \"text-align: right;\">-0.00146935</td><td style = \"text-align: right;\">0.000468265</td><td style = \"text-align: right;\">0.00208892</td><td style = \"text-align: right;\">-0.298692</td><td style = \"text-align: right;\">35.0</td><td style = \"text-align: right;\">4</td></tr><tr><td class = \"rowNumber\" style = \"font-weight: bold; text-align: right;\">411</td><td style = \"text-align: right;\">125</td><td style = \"text-align: right;\">10800</td><td style = \"text-align: right;\">270001.0</td><td style = \"text-align: right;\">1.30008e5</td><td style = \"text-align: right;\">-3093.75</td><td style = \"text-align: right;\">54.5002</td><td style = \"text-align: right;\">26.5015</td><td style = \"text-align: right;\">6.0</td><td style = \"text-align: right;\">-0.0016641</td><td style = \"text-align: right;\">0.000387549</td><td style = \"text-align: right;\">0.00187627</td><td style = \"text-align: right;\">-0.298704</td><td style = \"text-align: right;\">35.0</td><td style = \"text-align: right;\">4</td></tr><tr><td class = \"rowNumber\" style = \"font-weight: bold; text-align: right;\">412</td><td style = \"text-align: right;\">126</td><td style = \"text-align: right;\">10800</td><td style = \"text-align: right;\">2.70001e5</td><td style = \"text-align: right;\">1.35007e5</td><td style = \"text-align: right;\">-3093.75</td><td style = \"text-align: right;\">54.5001</td><td style = \"text-align: right;\">27.5013</td><td style = \"text-align: right;\">6.0</td><td style = \"text-align: right;\">-0.0018351</td><td style = \"text-align: right;\">0.00030453</td><td style = \"text-align: right;\">0.00163208</td><td style = \"text-align: right;\">-0.298717</td><td style = \"text-align: right;\">35.0</td><td style = \"text-align: right;\">4</td></tr><tr><td class = \"rowNumber\" style = \"font-weight: bold; text-align: right;\">413</td><td style = \"text-align: right;\">127</td><td style = \"text-align: right;\">10800</td><td style = \"text-align: right;\">2.7e5</td><td style = \"text-align: right;\">1.40006e5</td><td style = \"text-align: right;\">-3093.75</td><td style = \"text-align: right;\">54.5001</td><td style = \"text-align: right;\">28.5011</td><td style = \"text-align: right;\">6.0</td><td style = \"text-align: right;\">-0.00197978</td><td style = \"text-align: right;\">0.000218532</td><td style = \"text-align: right;\">0.00135935</td><td style = \"text-align: right;\">-0.29873</td><td style = \"text-align: right;\">35.0</td><td style = \"text-align: right;\">4</td></tr><tr><td class = \"rowNumber\" style = \"font-weight: bold; text-align: right;\">414</td><td style = \"text-align: right;\">128</td><td style = \"text-align: right;\">10800</td><td style = \"text-align: right;\">2.7e5</td><td style = \"text-align: right;\">1.45004e5</td><td style = \"text-align: right;\">-3093.75</td><td style = \"text-align: right;\">54.5</td><td style = \"text-align: right;\">29.5009</td><td style = \"text-align: right;\">6.0</td><td style = \"text-align: right;\">-0.00209574</td><td style = \"text-align: right;\">0.000128351</td><td style = \"text-align: right;\">0.00106042</td><td style = \"text-align: right;\">-0.298743</td><td style = \"text-align: right;\">35.0</td><td style = \"text-align: right;\">4</td></tr><tr><td class = \"rowNumber\" style = \"font-weight: bold; text-align: right;\">415</td><td style = \"text-align: right;\">129</td><td style = \"text-align: right;\">10800</td><td style = \"text-align: right;\">2.7e5</td><td style = \"text-align: right;\">1.50003e5</td><td style = \"text-align: right;\">-3093.75</td><td style = \"text-align: right;\">54.5</td><td style = \"text-align: right;\">30.5006</td><td style = \"text-align: right;\">6.0</td><td style = \"text-align: right;\">-0.00218069</td><td style = \"text-align: right;\">3.25459e-5</td><td style = \"text-align: right;\">0.000736987</td><td style = \"text-align: right;\">-0.298755</td><td style = \"text-align: right;\">35.0</td><td style = \"text-align: right;\">4</td></tr><tr><td class = \"rowNumber\" style = \"font-weight: bold; text-align: right;\">416</td><td style = \"text-align: right;\">130</td><td style = \"text-align: right;\">10800</td><td style = \"text-align: right;\">2.7e5</td><td style = \"text-align: right;\">1.55002e5</td><td style = \"text-align: right;\">-3093.75</td><td style = \"text-align: right;\">54.4999</td><td style = \"text-align: right;\">31.5003</td><td style = \"text-align: right;\">6.0</td><td style = \"text-align: right;\">-0.00223241</td><td style = \"text-align: right;\">-7.02949e-5</td><td style = \"text-align: right;\">0.000390125</td><td style = \"text-align: right;\">-0.298767</td><td style = \"text-align: right;\">35.0</td><td style = \"text-align: right;\">4</td></tr><tr><td class = \"rowNumber\" style = \"font-weight: bold; text-align: right;\">417</td><td style = \"text-align: right;\">120</td><td style = \"text-align: right;\">10800</td><td style = \"text-align: right;\">2.70002e5</td><td style = \"text-align: right;\">1.0501e5</td><td style = \"text-align: right;\">-3093.75</td><td style = \"text-align: right;\">54.5005</td><td style = \"text-align: right;\">21.5021</td><td style = \"text-align: right;\">6.0</td><td style = \"text-align: right;\">-0.000514093</td><td style = \"text-align: right;\">0.000751799</td><td style = \"text-align: right;\">0.00255706</td><td style = \"text-align: right;\">-0.298643</td><td style = \"text-align: right;\">35.0</td><td style = \"text-align: right;\">4</td></tr><tr><td class = \"rowNumber\" style = \"font-weight: bold; text-align: right;\">418</td><td style = \"text-align: right;\">121</td><td style = \"text-align: right;\">10800</td><td style = \"text-align: right;\">2.70002e5</td><td style = \"text-align: right;\">1.1001e5</td><td style = \"text-align: right;\">-3093.75</td><td style = \"text-align: right;\">54.5004</td><td style = \"text-align: right;\">22.502</td><td style = \"text-align: right;\">6.0</td><td style = \"text-align: right;\">-0.000772393</td><td style = \"text-align: right;\">0.000690538</td><td style = \"text-align: right;\">0.00250338</td><td style = \"text-align: right;\">-0.298655</td><td style = \"text-align: right;\">35.0</td><td style = \"text-align: right;\">4</td></tr><tr><td class = \"rowNumber\" style = \"font-weight: bold; text-align: right;\">419</td><td style = \"text-align: right;\">122</td><td style = \"text-align: right;\">10800</td><td style = \"text-align: right;\">2.70002e5</td><td style = \"text-align: right;\">1.1501e5</td><td style = \"text-align: right;\">-3093.75</td><td style = \"text-align: right;\">54.5004</td><td style = \"text-align: right;\">23.502</td><td style = \"text-align: right;\">6.0</td><td style = \"text-align: right;\">-0.00102019</td><td style = \"text-align: right;\">0.000621279</td><td style = \"text-align: right;\">0.00240577</td><td style = \"text-align: right;\">-0.298667</td><td style = \"text-align: right;\">35.0</td><td style = \"text-align: right;\">4</td></tr><tr><td class = \"rowNumber\" style = \"font-weight: bold; text-align: right;\">420</td><td style = \"text-align: right;\">123</td><td style = \"text-align: right;\">10800</td><td style = \"text-align: right;\">2.70002e5</td><td style = \"text-align: right;\">1.20009e5</td><td style = \"text-align: right;\">-3093.75</td><td style = \"text-align: right;\">54.5003</td><td style = \"text-align: right;\">24.5018</td><td style = \"text-align: right;\">6.0</td><td style = \"text-align: right;\">-0.00125366</td><td style = \"text-align: right;\">0.000546535</td><td style = \"text-align: right;\">0.00226656</td><td style = \"text-align: right;\">-0.298679</td><td style = \"text-align: right;\">35.0</td><td style = \"text-align: right;\">4</td></tr></tbody></table></div>"
      ],
      "text/latex": [
       "\\begin{tabular}{r|cccccccccc}\n",
       "\t& ID & time & lon & lat & dep & i & j & k & etaN & \\\\\n",
       "\t\\hline\n",
       "\t& Int64 & Int64 & Float32 & Float32 & Float32 & Float32 & Float32 & Float32 & Float32 & \\\\\n",
       "\t\\hline\n",
       "\t1 & 1 & 3600 & 117500.0 & 97500.4 & -2531.25 & 24.0 & 20.0001 & 5.0 & 0.000108853 & $\\dots$ \\\\\n",
       "\t2 & 2 & 3600 & 137500.0 & 97500.5 & -2531.25 & 28.0 & 20.0001 & 5.0 & 0.000125795 & $\\dots$ \\\\\n",
       "\t3 & 3 & 3600 & 167500.0 & 97500.6 & -2531.25 & 34.0 & 20.0001 & 5.0 & 0.000176366 & $\\dots$ \\\\\n",
       "\t4 & 21 & 3600 & 117500.0 & 97500.4 & -2531.25 & 24.0 & 20.0001 & 5.0 & 0.000108853 & $\\dots$ \\\\\n",
       "\t5 & 22 & 3600 & 137500.0 & 97500.5 & -2531.25 & 28.0 & 20.0001 & 5.0 & 0.000125795 & $\\dots$ \\\\\n",
       "\t6 & 23 & 3600 & 167500.0 & 97500.6 & -2531.25 & 34.0 & 20.0001 & 5.0 & 0.000176366 & $\\dots$ \\\\\n",
       "\t7 & 41 & 3600 & 117500.0 & 97500.0 & -2531.25 & 24.0 & 20.0 & 5.0 & -999.0 & $\\dots$ \\\\\n",
       "\t8 & 42 & 3600 & 137500.0 & 97500.0 & -2531.25 & 28.0 & 20.0 & 5.0 & -999.0 & $\\dots$ \\\\\n",
       "\t9 & 43 & 3600 & 167500.0 & 97500.0 & -2531.25 & 34.0 & 20.0 & 5.0 & -999.0 & $\\dots$ \\\\\n",
       "\t10 & 61 & 3600 & 117500.0 & 97500.0 & -2531.25 & 24.0 & 20.0 & 5.0 & -999.0 & $\\dots$ \\\\\n",
       "\t11 & 62 & 3600 & 137500.0 & 97500.0 & -2531.25 & 28.0 & 20.0 & 5.0 & -999.0 & $\\dots$ \\\\\n",
       "\t12 & 63 & 3600 & 167500.0 & 97500.0 & -2531.25 & 34.0 & 20.0 & 5.0 & -999.0 & $\\dots$ \\\\\n",
       "\t13 & 81 & 3600 & 97500.0 & 97500.0 & -1968.75 & 20.0 & 20.0 & 4.0 & 9.8633e-5 & $\\dots$ \\\\\n",
       "\t14 & 87 & 3600 & 1.97582e5 & 17489.2 & -281.25 & 40.0164 & 3.99783 & 1.0 & 0.0004626 & $\\dots$ \\\\\n",
       "\t15 & 88 & 3600 & 1.97593e5 & 27488.0 & -281.25 & 40.0185 & 5.9976 & 1.0 & 0.00059785 & $\\dots$ \\\\\n",
       "\t16 & 89 & 3600 & 1.97602e5 & 37486.9 & -281.25 & 40.0205 & 7.99738 & 1.0 & 0.000678877 & $\\dots$ \\\\\n",
       "\t17 & 90 & 3600 & 1.97611e5 & 47486.0 & -281.25 & 40.0222 & 9.99719 & 1.0 & 0.000713496 & $\\dots$ \\\\\n",
       "\t18 & 91 & 3600 & 197618.0 & 57485.2 & -281.25 & 40.0236 & 11.997 & 1.0 & 0.000708864 & $\\dots$ \\\\\n",
       "\t19 & 131 & 3600 & 42606.7 & 42486.5 & -281.276 & 9.02135 & 8.9973 & 1.00005 & 0.000601827 & $\\dots$ \\\\\n",
       "\t20 & 132 & 3600 & 42553.4 & 42493.3 & -562.552 & 9.01067 & 8.99865 & 1.50009 & 0.000601823 & $\\dots$ \\\\\n",
       "\t21 & 133 & 3600 & 42500.0 & 42500.0 & -843.798 & 9.0 & 9.0 & 2.00009 & 0.000601819 & $\\dots$ \\\\\n",
       "\t22 & 134 & 3600 & 42500.0 & 42500.0 & -1125.04 & 9.0 & 9.0 & 2.50008 & 0.000601819 & $\\dots$ \\\\\n",
       "\t23 & 135 & 3600 & 42500.0 & 42500.0 & -1406.29 & 9.0 & 9.0 & 3.00007 & 0.000601819 & $\\dots$ \\\\\n",
       "\t24 & 136 & 3600 & 42500.0 & 42500.0 & -1687.54 & 9.0 & 9.0 & 3.50007 & 0.000601819 & $\\dots$ \\\\\n",
       "\t25 & 137 & 3600 & 42500.0 & 42500.0 & -1968.78 & 9.0 & 9.0 & 4.00006 & 0.000601819 & $\\dots$ \\\\\n",
       "\t26 & 138 & 3600 & 42500.0 & 42500.0 & -2250.03 & 9.0 & 9.0 & 4.50005 & 0.000601819 & $\\dots$ \\\\\n",
       "\t27 & 139 & 3600 & 42500.0 & 42500.0 & -2531.28 & 9.0 & 9.0 & 5.00005 & 0.000601819 & $\\dots$ \\\\\n",
       "\t28 & 140 & 3600 & 42500.0 & 42500.0 & -2812.52 & 9.0 & 9.0 & 5.50004 & 0.000601819 & $\\dots$ \\\\\n",
       "\t29 & 6 & 3600 & 97500.0 & 1.075e5 & -2531.25 & 20.0 & 22.0001 & 5.0 & -5.52355e-5 & $\\dots$ \\\\\n",
       "\t30 & 7 & 3600 & 107500.0 & 1.075e5 & -2531.25 & 22.0 & 22.0001 & 5.0 & -5.26708e-5 & $\\dots$ \\\\\n",
       "\t$\\dots$ & $\\dots$ & $\\dots$ & $\\dots$ & $\\dots$ & $\\dots$ & $\\dots$ & $\\dots$ & $\\dots$ & $\\dots$ &  \\\\\n",
       "\\end{tabular}\n"
      ],
      "text/plain": [
       "\u001b[1m420×14 DataFrame\u001b[0m\n",
       "\u001b[1m Row \u001b[0m│\u001b[1m ID    \u001b[0m\u001b[1m time  \u001b[0m\u001b[1m lon            \u001b[0m\u001b[1m lat           \u001b[0m\u001b[1m dep      \u001b[0m\u001b[1m i       \u001b[0m\u001b[1m j      \u001b[0m ⋯\n",
       "     │\u001b[90m Int64 \u001b[0m\u001b[90m Int64 \u001b[0m\u001b[90m Float32        \u001b[0m\u001b[90m Float32       \u001b[0m\u001b[90m Float32  \u001b[0m\u001b[90m Float32 \u001b[0m\u001b[90m Float32\u001b[0m ⋯\n",
       "─────┼──────────────────────────────────────────────────────────────────────────\n",
       "   1 │     1   3600  117500.0        97500.4        -2531.25  24.0     20.0001 ⋯\n",
       "   2 │     2   3600  137500.0        97500.5        -2531.25  28.0     20.0001\n",
       "   3 │     3   3600  167500.0        97500.6        -2531.25  34.0     20.0001\n",
       "   4 │    21   3600  117500.0        97500.4        -2531.25  24.0     20.0001\n",
       "   5 │    22   3600  137500.0        97500.5        -2531.25  28.0     20.0001 ⋯\n",
       "   6 │    23   3600  167500.0        97500.6        -2531.25  34.0     20.0001\n",
       "   7 │    41   3600  117500.0        97500.0        -2531.25  24.0     20.0\n",
       "   8 │    42   3600  137500.0        97500.0        -2531.25  28.0     20.0\n",
       "   9 │    43   3600  167500.0        97500.0        -2531.25  34.0     20.0    ⋯\n",
       "  10 │    61   3600  117500.0        97500.0        -2531.25  24.0     20.0\n",
       "  11 │    62   3600  137500.0        97500.0        -2531.25  28.0     20.0\n",
       "  ⋮  │   ⋮      ⋮          ⋮               ⋮           ⋮         ⋮        ⋮    ⋱\n",
       " 411 │   125  10800  270001.0            1.30008e5  -3093.75  54.5002  26.5015\n",
       " 412 │   126  10800       2.70001e5      1.35007e5  -3093.75  54.5001  27.5013 ⋯\n",
       " 413 │   127  10800       2.7e5          1.40006e5  -3093.75  54.5001  28.5011\n",
       " 414 │   128  10800       2.7e5          1.45004e5  -3093.75  54.5     29.5009\n",
       " 415 │   129  10800       2.7e5          1.50003e5  -3093.75  54.5     30.5006\n",
       " 416 │   130  10800       2.7e5          1.55002e5  -3093.75  54.4999  31.5003 ⋯\n",
       " 417 │   120  10800       2.70002e5      1.0501e5   -3093.75  54.5005  21.5021\n",
       " 418 │   121  10800       2.70002e5      1.1001e5   -3093.75  54.5004  22.502\n",
       " 419 │   122  10800       2.70002e5      1.1501e5   -3093.75  54.5004  23.502\n",
       " 420 │   123  10800       2.70002e5      1.20009e5  -3093.75  54.5003  24.5018 ⋯\n",
       "\u001b[36m                                                  8 columns and 399 rows omitted\u001b[0m"
      ]
     },
     "execution_count": 4,
     "metadata": {},
     "output_type": "execute_result"
    }
   ],
   "source": [
    "pth=joinpath(tmp,\"MITgcm\",\"verification\",\"flt_example\",\"run\")\n",
    "tmp=read_flt(pth,Float32)"
   ]
  }
 ],
 "metadata": {
  "kernelspec": {
   "display_name": "Julia 1.10.5",
   "language": "julia",
   "name": "julia-1.10"
  },
  "language_info": {
   "file_extension": ".jl",
   "mimetype": "application/julia",
   "name": "julia",
   "version": "1.10.5"
  }
 },
 "nbformat": 4,
 "nbformat_minor": 5
}
