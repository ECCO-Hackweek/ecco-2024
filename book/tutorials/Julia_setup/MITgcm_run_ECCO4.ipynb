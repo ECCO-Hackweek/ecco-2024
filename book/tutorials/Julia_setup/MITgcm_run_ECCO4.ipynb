{
 "cells": [
  {
   "cell_type": "markdown",
   "id": "f55cf3e9-57df-4556-80ce-909294fd8f5d",
   "metadata": {},
   "source": [
    "# run ECCO solutions from Julia\n",
    "\n",
    "See the MITgcm.jl [docs here]https://gaelforget.github.io/MITgcm.jl/dev/functionalities_configurations/#Global-ECCO-Configuration) for more detail"
   ]
  },
  {
   "cell_type": "code",
   "execution_count": null,
   "id": "7e7c7f72-59cd-4af2-b644-1f61b0a1a5e2",
   "metadata": {},
   "outputs": [],
   "source": [
    "using MITgcm\n",
    "params=read_toml(:ECCO4)\n",
    "folder=joinpath(pwd(),\"ECCO4_run1\")\n",
    "MC=MITgcm_config(inputs=params,folder=folder)\n",
    "run(MC)"
   ]
  },
  {
   "cell_type": "code",
   "execution_count": null,
   "id": "af05967e-698e-4764-a94a-084abed3262a",
   "metadata": {},
   "outputs": [],
   "source": []
  }
 ],
 "metadata": {
  "kernelspec": {
   "display_name": "Julia 1.10.5",
   "language": "julia",
   "name": "julia-1.10"
  },
  "language_info": {
   "file_extension": ".jl",
   "mimetype": "application/julia",
   "name": "julia",
   "version": "1.10.5"
  }
 },
 "nbformat": 4,
 "nbformat_minor": 5
}
