{
 "cells": [
  {
   "cell_type": "markdown",
   "id": "f2b98c55-f3fb-4045-968f-085413efd298",
   "metadata": {},
   "source": [
    "# ECCO analyses in Julia"
   ]
  },
  {
   "cell_type": "code",
   "execution_count": 4,
   "id": "54afcff5-3753-40d8-9e7c-2d413c521649",
   "metadata": {},
   "outputs": [],
   "source": [
    "using Climatology, CairoMakie\n",
    "using MeshArrays, NetCDF, MITgcm"
   ]
  },
  {
   "cell_type": "code",
   "execution_count": 5,
   "id": "29563349-4a39-489d-9635-bdb3ce4310c5",
   "metadata": {},
   "outputs": [
    {
     "data": {
      "text/plain": [
       "5×1 MeshArrays.gcmarray{Float64, 2, Matrix{Float64}}:\n",
       " [NaN NaN … NaN NaN; NaN NaN … NaN NaN; … ; NaN NaN … NaN NaN; NaN NaN … NaN NaN]\n",
       " [NaN NaN … NaN NaN; NaN NaN … NaN NaN; … ; NaN NaN … NaN NaN; NaN NaN … NaN NaN]\n",
       " [NaN NaN … NaN NaN; NaN NaN … NaN NaN; … ; NaN NaN … NaN NaN; NaN NaN … NaN NaN]\n",
       " [NaN NaN … NaN NaN; NaN NaN … NaN NaN; … ; NaN NaN … NaN NaN; NaN NaN … NaN NaN]\n",
       " [NaN NaN … NaN NaN; NaN NaN … NaN NaN; … ; NaN NaN … NaN NaN; NaN NaN … NaN NaN]"
      ]
     },
     "execution_count": 5,
     "metadata": {},
     "output_type": "execute_result"
    }
   ],
   "source": [
    "get_ecco_variable_if_needed(\"ETAN\")\n",
    "path=joinpath(ScratchSpaces.ECCO,\"ETAN/ETAN\")\n",
    "γ=GridSpec(\"LatLonCap\",MeshArrays.GRID_LLC90)\n",
    "tmp=read_nctiles(path,\"ETAN\",γ,I=(:,:,1))"
   ]
  }
 ],
 "metadata": {
  "kernelspec": {
   "display_name": "Julia 1.10.5",
   "language": "julia",
   "name": "julia-1.10"
  },
  "language_info": {
   "file_extension": ".jl",
   "mimetype": "application/julia",
   "name": "julia",
   "version": "1.10.5"
  }
 },
 "nbformat": 4,
 "nbformat_minor": 5
}
