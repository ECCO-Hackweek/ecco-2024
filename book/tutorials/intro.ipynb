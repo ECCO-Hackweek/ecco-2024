{
 "cells": [
  {
   "cell_type": "markdown",
   "id": "2fafc517-0d28-43a3-90da-2b3a7b2cbc4f",
   "metadata": {},
   "source": [
    "# Tutorials\n",
    " \n",
    " \n",
    "This page contains a few tutorials to help you get oriented with our working environment and the ECCO model output. Hackweek tutorials are learning-oriented and guide participants through a step-wise process with a meaningful outcome. If you develop a notebook during the hackweek that you think would be a good tutorial for other participants, you can contribute it to the [`ecco-2024/book/tutorials`](https://github.com/ECCO-Hackweek/ecco-2024/tree/main/book/tutorials) directory. See the [Hackweek Guidebook](https://guidebook.hackweek.io/training/tutorials/index.html) for some useful guidelines on creating tutorials.\n",
    "\n",
    "The [ECCO-v4-Python-Tutorial](https://ecco-v4-python-tutorial.readthedocs.io) notebooks are a much more extensive set of Python-based tutorial notebooks for handling computations with ECCO output. Some of the tutorials below are taken from or based on those notebooks.\n",
    "\n",
    "## Tutorial listing\n",
    "\n",
    "| Tutorial | Topics |\n",
    "| -  | - |\n",
    "| **Setting up the OSS environment** |  |\n",
    "| [Example Notebook](./example/tutorial-notebook.ipynb) | Jupyter Book formatting, ipyleaflet |"
   ]
  }
 ],
 "metadata": {
  "kernelspec": {
   "display_name": "Python 3 (ipykernel)",
   "language": "python",
   "name": "python3"
  },
  "language_info": {
   "codemirror_mode": {
    "name": "ipython",
    "version": 3
   },
   "file_extension": ".py",
   "mimetype": "text/x-python",
   "name": "python",
   "nbconvert_exporter": "python",
   "pygments_lexer": "ipython3",
   "version": "3.11.9"
  }
 },
 "nbformat": 4,
 "nbformat_minor": 5
}
