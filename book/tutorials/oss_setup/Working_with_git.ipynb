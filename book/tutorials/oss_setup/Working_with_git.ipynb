{
 "cells": [
  {
   "cell_type": "markdown",
   "id": "91e5693a-262e-4f9f-aba5-8630ba4a9aa0",
   "metadata": {},
   "source": [
    "# Using *git* to commit and publish code\n",
    "\n",
    "For newcomers to Github, this tutorial covers some of the basic git commands that you can use to manage code changes in a given repository, and publish those changes. For further reference, the [Atlassian Git tutorial](https://www.atlassian.com/git/tutorials/saving-changes) is a good resource.\n",
    "\n",
    "## Creating a branch\n",
    "\n",
    "When writing or revising code (including Jupyter notebooks), it is a good practice to first create a branch. Each branch is a place where you make a coherent set of changes to a repo (e.g., writing a new notebook, adding a new feature to your code). When you eventually merge a branch to the main repo via a pull request, each branch represents an easily-summarized idea that you have implemented in the repo."
   ]
  }
 ],
 "metadata": {
  "kernelspec": {
   "display_name": "Python 3 (ipykernel)",
   "language": "python",
   "name": "python3"
  },
  "language_info": {
   "codemirror_mode": {
    "name": "ipython",
    "version": 3
   },
   "file_extension": ".py",
   "mimetype": "text/x-python",
   "name": "python",
   "nbconvert_exporter": "python",
   "pygments_lexer": "ipython3",
   "version": "3.11.9"
  }
 },
 "nbformat": 4,
 "nbformat_minor": 5
}
