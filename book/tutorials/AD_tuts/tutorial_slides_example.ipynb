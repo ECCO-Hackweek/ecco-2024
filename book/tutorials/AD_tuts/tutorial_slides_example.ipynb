{
 "cells": [
  {
   "cell_type": "markdown",
   "id": "3536e6f3",
   "metadata": {},
   "source": [
    "# Example of AD in slides"
   ]
  },
  {
   "cell_type": "code",
   "execution_count": 1,
   "id": "b7ce95e8",
   "metadata": {},
   "outputs": [],
   "source": [
    "import numpy as np"
   ]
  },
  {
   "cell_type": "code",
   "execution_count": 2,
   "id": "837720e0",
   "metadata": {},
   "outputs": [],
   "source": [
    "def forward(x = np.array([1., 1.])):\n",
    "    \n",
    "    x[0] = x[0]**2 + x[1]\n",
    "\n",
    "    x[1] = x[0] + x[1]**2\n",
    "    \n",
    "    J = x[0] + x[1]\n",
    "    \n",
    "    return J"
   ]
  },
  {
   "cell_type": "code",
   "execution_count": 3,
   "id": "29317cd5",
   "metadata": {},
   "outputs": [
    {
     "data": {
      "text/plain": [
       "array([4.00000021, 4.00000011])"
      ]
     },
     "execution_count": 3,
     "metadata": {},
     "output_type": "execute_result"
    }
   ],
   "source": [
    "def finite_diff_grad(x = np.array([1., 1.]), eps = 1.e-7):\n",
    "    \n",
    "    J = forward(x.copy())\n",
    "    g = np.zeros(x.shape)\n",
    "    \n",
    "    for i in range(x.shape[0]):\n",
    "        \n",
    "        x_perturb = x.copy()\n",
    "        x_perturb[i] = x_perturb[i] + eps\n",
    "        J_perturb = forward(x_perturb.copy())\n",
    "        \n",
    "        g[i] = (J_perturb - J) / eps\n",
    "    \n",
    "    return g\n",
    "\n",
    "finite_diff_grad()"
   ]
  },
  {
   "cell_type": "code",
   "execution_count": 10,
   "id": "7deb9083",
   "metadata": {},
   "outputs": [
    {
     "data": {
      "text/plain": [
       "array([4., 4.])"
      ]
     },
     "execution_count": 10,
     "metadata": {},
     "output_type": "execute_result"
    }
   ],
   "source": [
    "def TLM_grad(x = np.array([1., 1.])):\n",
    "\n",
    "    dx = np.zeros(x.shape)\n",
    "    g = np.zeros(x.shape)\n",
    "    x_orig = x.copy()\n",
    "    \n",
    "    for i in range(x.shape[0]):\n",
    "        \n",
    "        dx[:] = 0.0\n",
    "        x = x_orig.copy()\n",
    "        dx[i] = 1.0\n",
    "\n",
    "        dx[0]  = 2*x[0]*dx[0] + dx[1]\n",
    "        x[0]   = x[0]**2 + x[1]\n",
    "\n",
    "        dx[1]  = dx[0] + 2*x[1]*dx[1]\n",
    "        x[1]   = x[0] + x[1]**2\n",
    "\n",
    "        g[i]  = dx[0] + dx[1]\n",
    "        J     = x[0] + x[1]\n",
    "    \n",
    "    return g\n",
    "    \n",
    "TLM_grad()"
   ]
  },
  {
   "cell_type": "code",
   "execution_count": 16,
   "id": "b569801f",
   "metadata": {},
   "outputs": [
    {
     "data": {
      "text/plain": [
       "array([4., 4.])"
      ]
     },
     "execution_count": 16,
     "metadata": {},
     "output_type": "execute_result"
    }
   ],
   "source": [
    "def adj_store_grad(x = np.array([1., 1.])):\n",
    "\n",
    "    tape = []\n",
    "    \n",
    "    tape.append(np.copy(x))\n",
    "    x[0] = x[0]**2 + x[1]\n",
    "\n",
    "\n",
    "    tape.append(np.copy(x))\n",
    "    x[1] = x[0] + x[1]**2\n",
    "\n",
    "    J = x[0] + x[1]\n",
    "    \n",
    "    xb = np.zeros(x.shape)\n",
    "    Jb = 1.0\n",
    "     \n",
    "    xb[0] = xb[0] + Jb\n",
    "    xb[1] = xb[1] + Jb\n",
    "    Jb    = 0.0\n",
    "    \n",
    "    x = tape.pop()\n",
    "    xb[0] = xb[0] + xb[1]\n",
    "    xb[1] = 2*x[1]*xb[1]\n",
    "    \n",
    "    x = tape.pop()\n",
    "    xb[1] = xb[0] + xb[1]\n",
    "    xb[0] = 2*x[0]*xb[0]\n",
    "    \n",
    "    return xb\n",
    "    \n",
    "adj_store_grad()"
   ]
  }
 ],
 "metadata": {
  "kernelspec": {
   "display_name": "py310",
   "language": "python",
   "name": "py310"
  },
  "language_info": {
   "codemirror_mode": {
    "name": "ipython",
    "version": 3
   },
   "file_extension": ".py",
   "mimetype": "text/x-python",
   "name": "python",
   "nbconvert_exporter": "python",
   "pygments_lexer": "ipython3",
   "version": "3.10.12"
  }
 },
 "nbformat": 4,
 "nbformat_minor": 5
}
