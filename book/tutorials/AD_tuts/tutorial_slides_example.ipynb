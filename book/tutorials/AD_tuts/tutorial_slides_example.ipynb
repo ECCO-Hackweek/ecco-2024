{
 "cells": [
  {
   "cell_type": "markdown",
   "id": "3536e6f3",
   "metadata": {},
   "source": [
    "# Example of AD in slides"
   ]
  },
  {
   "cell_type": "code",
   "execution_count": 1,
   "id": "b7ce95e8",
   "metadata": {},
   "outputs": [],
   "source": [
    "import numpy as np"
   ]
  },
  {
   "cell_type": "code",
   "execution_count": 2,
   "id": "837720e0",
   "metadata": {},
   "outputs": [],
   "source": [
    "def forward(mx = 1.0, my = 1.0):\n",
    "\n",
    "    # m1 = A1(m0), A1 only modifies x-component\n",
    "    mx = mx**2 + my\n",
    "\n",
    "    # m2 = A2(m1), A2 only modifies y-component\n",
    "    my = mx + my**2\n",
    "\n",
    "    # J = J(m2)\n",
    "    J = mx + my\n",
    "    \n",
    "    return J"
   ]
  },
  {
   "cell_type": "code",
   "execution_count": 3,
   "id": "29317cd5",
   "metadata": {},
   "outputs": [
    {
     "data": {
      "text/plain": [
       "array([4.00000021, 4.00000011])"
      ]
     },
     "execution_count": 3,
     "metadata": {},
     "output_type": "execute_result"
    }
   ],
   "source": [
    "def finite_diff_grad(mx = 1.0, my = 1.0, eps = 1.e-7):\n",
    "    \n",
    "    J = forward(mx, my)\n",
    "    \n",
    "    # Perturb in x-direction\n",
    "    mx_perturb = mx + eps\n",
    "    Jx_perturb = forward(mx_perturb, my)\n",
    "    gx = (Jx_perturb - J) / eps\n",
    "\n",
    "    # Perturb in y-direction\n",
    "    my_perturb = my + eps\n",
    "    Jy_perturb = forward(mx, my_perturb)\n",
    "    gy = (Jy_perturb - J) / eps\n",
    "    \n",
    "    return np.array([gx, gy])\n",
    "\n",
    "finite_diff_grad()"
   ]
  },
  {
   "cell_type": "code",
   "execution_count": 4,
   "id": "7deb9083",
   "metadata": {},
   "outputs": [
    {
     "data": {
      "text/plain": [
       "array([4., 4.])"
      ]
     },
     "execution_count": 4,
     "metadata": {},
     "output_type": "execute_result"
    }
   ],
   "source": [
    "def TLM_grad(mx = 1.0, my = 1.0):\n",
    "\n",
    "    mx_orig = mx\n",
    "    my_orig = my\n",
    "    \n",
    "    # x-component of gradient\n",
    "    dmx = 1.0\n",
    "    dmy = 0.0\n",
    "\n",
    "    dmx = 2*mx*dmx + dmy # dm1 = B1(m0)*dm0\n",
    "    dmy = dmx + 2*my*dmy # dm2 = B2(m1)*dm1\n",
    "    gx  = dmx + dmy      # dJ = gx\n",
    "\n",
    "    # y-component of gradient\n",
    "    dmx = 0.0\n",
    "    dmy = 1.0\n",
    "\n",
    "    dmx = 2*mx*dmx + dmy # dm1 = B1(m0)*dm0\n",
    "    dmy = dmx + 2*my*dmy # dm2 = B2(m1)*dm1\n",
    "    gy  = dmx + dmy      # dJ = gy\n",
    "    \n",
    "    return np.array([gx, gy])\n",
    "    \n",
    "TLM_grad()"
   ]
  },
  {
   "cell_type": "code",
   "execution_count": 5,
   "id": "b569801f",
   "metadata": {},
   "outputs": [
    {
     "data": {
      "text/plain": [
       "array([4., 4.])"
      ]
     },
     "execution_count": 5,
     "metadata": {},
     "output_type": "execute_result"
    }
   ],
   "source": [
    "def adj_store_grad(mx = 1.0, my = 1.0):\n",
    "\n",
    "    tape = []\n",
    "    \n",
    "    tape.append([mx, my]) # Store m0\n",
    "    mx = mx**2 + my\n",
    "\n",
    "    tape.append([mx, my]) # Store m1\n",
    "    my = mx + my**2\n",
    "\n",
    "    J  = mx + my\n",
    "    \n",
    "    mxb = 0.0\n",
    "    myb = 0.0\n",
    "    Jb  = 1.0 # dJ/dJ = 1.0\n",
    "\n",
    "    # m2b = dJ/dm2\n",
    "    mxb = mxb + Jb\n",
    "    myb = myb + Jb\n",
    "    Jb  = 0.0\n",
    "\n",
    "    # m1b = B2(m1)^T * m2b\n",
    "    mx, my = tape.pop()\n",
    "    mxb = mxb + myb \n",
    "    myb = 2*my*myb\n",
    "\n",
    "    # m0b = B1(m0)^T * m1b\n",
    "    mx, my = tape.pop()\n",
    "    myb = mxb + myb\n",
    "    mxb = 2*mx*mxb\n",
    "\n",
    "    # g = dJ/dm0 = m0b\n",
    "    return np.array([mxb, myb])\n",
    "    \n",
    "adj_store_grad()"
   ]
  }
 ],
 "metadata": {
  "kernelspec": {
   "display_name": "py310",
   "language": "python",
   "name": "py310"
  },
  "language_info": {
   "codemirror_mode": {
    "name": "ipython",
    "version": 3
   },
   "file_extension": ".py",
   "mimetype": "text/x-python",
   "name": "python",
   "nbconvert_exporter": "python",
   "pygments_lexer": "ipython3",
   "version": "3.10.12"
  }
 },
 "nbformat": 4,
 "nbformat_minor": 5
}
