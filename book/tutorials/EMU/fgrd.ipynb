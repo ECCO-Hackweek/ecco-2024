{
 "cells": [
  {
   "cell_type": "markdown",
   "metadata": {},
   "source": [
    "# Forward Gradient Tool\n",
    "The Forward Gradient (fgrd) Tool computes state's forward gradient by computing the model's response to changes in forcing. In this tutorial, we demonstrate how to compute the ocean's response to a perturbation of -0.1 Nm<sup>-2</sup>  in the eastward zonal wind stress at a location near the Equator and the Date Line at week 5."
   ]
  },
  {
   "cell_type": "markdown",
   "metadata": {},
   "source": [
    "## Run Forward Gradient Tool\n",
    "We will first configure the Forward Gradient Tool by providing some input parameters, similar to [running the Sampling Tool](samp.ipynb). After setup, the Forward Gradient Tool will be automatically submitted as a `SLURM` batch job; there is no need to request an interactive node, as is done in [running the Sampling Tool](samp.ipynb).\n",
    "\n",
    "We will describe each step in running the Forward Gradient Tool. However, because EMU is menu-driven and some of the outputs are the same or very similar to those presented in [Sampling Tool](samp.ipynb), we will not present those outputs unless necessary.\n",
    "\n",
    "**Starting emu script, **\n",
    "```bash\n",
    "/efs_ecco/ECCO/EMU/emu_userinterface_dir/emu\n",
    "```\n",
    "we will get the same basic information about EMU and press the `ENTER` key to continue. From the list of tools, we will choose the Forward Gradient Tool by entering `2`. We will then need to choose which forcing to perturb. \n",
    "```\n",
    "choice is 2) Forward Gradient Tool (fgrd)\n",
    "See /efs/owang/ECCO/EMU_test/emu_userinterface_dir/README_fgrd\n",
    " \n",
    "************************************\n",
    "    EMU Forward Gradient Tool (singularity) \n",
    "************************************\n",
    " \n",
    "**** Step 1: Tool Setup\n",
    "     Running setup_fgrd.sh \n",
    " \n",
    "... Setting up ECCO V4r4 Forward Gradient Tool ...\n",
    " \n",
    " \n",
    "**** Step 2: Specification\n",
    "     Running fgrd_spec.x\n",
    "\n",
    "Forward Gradient Tool ... \n",
    "\n",
    " Define control perturbation (denominator in Eq 2 of Guide) ... \n",
    " Available control variables to perturb ... \n",
    "    1) empmr\n",
    "    2) pload\n",
    "    3) qnet\n",
    "    4) qsw\n",
    "    5) saltflux\n",
    "    6) spflx\n",
    "    7) tauu\n",
    "    8) tauv\n",
    "   Enter control (phi in Eq 2 of Guide) ... (1- 8) ?\n",
    "```\n",
    "We will choose `tauu` (zonal wind stress) by entering 7. Then, we will choose the `i` and `j` indices of `15` and `743`.\n",
    "Output:\n",
    "```\n",
    "  ..... perturbing tauu\n",
    "\n",
    " Choose location for perturbation (r in Eq 2 of Guide) ... \n",
    "    Enter 1 to choose native grid location (i,j),  \n",
    "          9 to select by longitude/latitude ... (1 or 9)? \n",
    "1\n",
    "    Enter native (i,j) grid to perturb ... \n",
    "   i ... (1-90) ?\n",
    "15\n",
    "   j ... (1-1170) ?\n",
    "743\n",
    "  ...... perturbation at (i,j) =           15         743\n",
    "        C-grid is (long E, lat N) =   179.5   0.2\n",
    "        Depth (m) =   5390.7\n",
    "\n",
    "Enter week to perturb (s in Eq 2) ... (1-1358) ?\n",
    "```\n",
    "The tool will ask which week to perturb (see above). For that, we enter `5` for the 5th week. Note that the perturbation is applied at the beginning of week 5, i.e., day 28. \n",
    "```\n",
    "Default perturbation (delta_phi in Eq 4 of Guide) : \n",
    "         -0.1000E+00 in unit N/m2 (westward wind stress)                                             \n",
    " Enter 1 to keep, 9 to change ... ?\n",
    "```\n",
    "Next, we need to set the perturbation magnitude (and direction). The tool provides a default perturbation for `tauu`, which is -0.1 Nm<sup>-2</sup> (the negative sign indicates the perturbation is *westward* wind stress). We will use the default perturbation by entering `1`, but we can also enter `9` to specify a different perturbation.\n",
    "```\n",
    "Perturbation amplitude =   -0.1000E+00\n",
    "        in unit N/m2 (westward wind stress)                                             \n",
    "\n",
    " V4r4 integrates 312-months from 1/1/1992 12Z to 12/31/2017 12Z\n",
    "which requires 18 hours wallclock time.\n",
    " Enter number of months to integrate (Max t in Eq 2)... (1-312)?\n",
    "```\n",
    "We will then enter `12` to integrate the model for 12 months, which should take less than one hour of wall clock time to complete on the P-Cluster. With that, we have set up the Forward Gradient Tool, and the tool will submit a batch job using the `SLURM` command `sbatch`. After the following message, `SLURM` will obtain the requested resources, which takes a few minutes. Once the resources are ready, the run will start . \n",
    "```\n",
    "Will integrate model over  12 months\n",
    "\n",
    "   ... Program has set computation periods in files data and pbs_fgrd.sh accordingly.\n",
    "   ... Estimated wallclock hours is    1\n",
    "\n",
    " Wrote fgrd_pert.nml\n",
    " Wrote fgrd_pert.str\n",
    "\n",
    "Forward Gradient Tool output will be in : emu_fgrd_7_15_743_5_-1.00E-01\n",
    "\n",
    " \n",
    "**** Step 3: Calculation\n",
    "  1) Set up files for MITgcm \n",
    "  2) Perturb forcing \n",
    " inputdir read : /emu_input_dir/forcing\n",
    " pert_v            7\n",
    " pert_i           15\n",
    " pert_j          743\n",
    " pert_t            5\n",
    " pert_a  -0.100000001    \n",
    " ... perturbing tauu\n",
    "diags exists\n",
    "diags exists\n",
    "  3) Run MITgcm \n",
    "  4) Compute difference from reference run\n",
    "... Running batch job pbs_fgrd.sh \n",
    "    to compute the model's forward gradient.\n",
    " \n",
    "    Estimated wallclock time:\n",
    "#SBATCH --ntasks-per-node=36\n",
    " \n",
    "********************************************\n",
    "    Results will be in  emu_fgrd_7_15_743_5_-1.00E-01/output\n",
    "********************************************\n",
    " \n",
    "Progress of the computation can be monitored by\n",
    "  ls emu_fgrd_7_15_743_5_-1.00E-01/temp/diags/*2d*day*data | wc -l \n",
    "which counts the number of days the model has integrated.\n",
    "(As standard output, the model saves daily mean files of\n",
    "sea level and ocean bottom pressure.)\n",
    " \n",
    "Submitted batch job 819\n",
    "\n",
    "EMU interactive execution complete. Thu Oct  3 04:27:26 UTC 2024\n",
    "```\n",
    "We can use the `SLURM` command `squeue` to check the status of the run (as described in [Reproducing ECCO Version 4 Release 4](../pcluster/reproducing_v4r4.ipynb))."
   ]
  },
  {
   "cell_type": "markdown",
   "metadata": {},
   "source": [
    "## Visualize Forward Gradient Results\n",
    "Plotting the results of Forward Gradient Tool is the same as [plotting Sampling Tool results](samp.ipynb), except that we now enter the run directory `emu_fgrd_7_15_743_5_-1.00E-01`. Again, we will show two methods of using the visualization tool. \n",
    "\n",
    "```{tip}\n",
    "A Jupyter Notebook, [fgrd_viz](../../../assets/code/fgrd_viz) (after downloading, rename it to `fgrd_viz.ipynb`), is provided for users' convenience. It reproduces the steps and figures described in this visualization tutorial. Users can also add more sophisticated analysis on top of this notebook. \n",
    "```\n",
    "\n",
    "Same as in [Sampling Tool](samp.ipynb), we first log into [OSS](https://sealevel.oss.eis.smce.nasa.gov) and start a Jupyter Notebook session.\n",
    "\n",
    "### Method 1: Menu-driven Input\n",
    "\n",
    "First create a new Jupyter Notebook, import the `runpy` module, and then call the Python plotting script located at `/efs_ecco/ECCO/EMU/emu_userinterface_dir/python/emu_plot.py`. The plotting script asks for the directory name of the EMU run (in this case, `emu_fgrd_7_15_743_5_-1.00E-01`), and then it generates the plot."
   ]
  },
  {
   "cell_type": "code",
   "execution_count": null,
   "metadata": {},
   "outputs": [],
   "source": [
    "import runpy\n",
    "runpy.run_path('/efs_ecco/ECCO/EMU/emu_userinterface_dir/python/emu_plot.py');"
   ]
  },
  {
   "cell_type": "markdown",
   "metadata": {},
   "source": [
    "```\n",
    "Found file: /efs_ecco/ECCO/EMU/emu_userinterface_dir/emu_env.singularity\n",
    "EMU Input Files directory: /efs/owang/ECCO/EMU_test/emu_input_dir\n",
    "\n",
    "Enter directory of EMU run to examine; e.g., emu_samp_m_2_45_585_1 ... ?  /efs_ecco/owang/ECCO/EMU/tryout/emu_fgrd_7_15_743_5_-1.00E-01\n",
    "\n",
    "\n",
    "Reading /efs_ecco/owang/ECCO/EMU/tryout/emu_fgrd_7_15_743_5_-1.00E-01\n",
    "\n",
    "Reading Forward Gradient Tool output ... \n",
    "\n",
    "Detected \n",
    "   395 files of state_2d_set1_day.*.data\n",
    "    12 files of state_2d_set1_mon.*.data\n",
    "    12 files of state_3d_set1_mon.*.data\n",
    "\n",
    "Choose variable to plot ...\n",
    "1) SSH\n",
    "2) OBP\n",
    "3) THETA\n",
    "4) SALT\n",
    "5) U\n",
    "6) V\n",
    "\n",
    "Select monthly or daily mean ... (m/d)?\n",
    "(NOTE: daily mean available for SSH and OBP only.)\n",
    "\n",
    "Enter 'm' for monthly or 'd' for daily:  m\n",
    "\n",
    "==> Reading and plotting monthly means ...\n",
    "\n",
    "Enter variable # to plot ... (1-6)?  1\n",
    "\n",
    "\n",
    "Plotting ... SSH\n",
    "\n",
    "Enter file # to read ... (1-12 or -1 to exit)? 1\n",
    "\n",
    "Enter file # to read ... (1-12 or -1 to exit)? -1\n",
    "\n",
    "*********************************************\n",
    "Returning variable \n",
    "   fgrd2d: last plotted gradient (2d)\n",
    "```\n",
    "\n",
    "The perturbed SSH at month 1 is shown below:\n",
    "\n",
    " ![Fig_samp_1.png](./figures/Fig_fgrd_1.png)\n",
    "\n",
    "There is a dipole pattern of SSH, with higher SSH in the west and lower SSH in the east, in response to a westward perturbation of wind stress at the Equator. This perturbation directly piles water in the west and pulls water away from the east because the Coriolis effect is zero at the Equator, preventing the deflection of water flow."
   ]
  },
  {
   "cell_type": "markdown",
   "metadata": {},
   "source": [
    "### Method 2: Argument-based Input\n",
    "The detailed steps for Method 2 can be found in `fgrd_viz.ipynb` (see Tip above). \n",
    "- Load modules"
   ]
  },
  {
   "cell_type": "code",
   "execution_count": null,
   "metadata": {},
   "outputs": [],
   "source": [
    "import sys\n",
    "sys.path.append('/efs_ecco/ECCO/EMU/emu_userinterface_dir/')\n",
    "import emu_plot_arg_py as ept\n",
    "import numpy as np\n",
    "import matplotlib.pyplot as plt\n",
    "import lib_python"
   ]
  },
  {
   "cell_type": "markdown",
   "metadata": {},
   "source": [
    "-  Invoke Method 2"
   ]
  },
  {
   "cell_type": "code",
   "execution_count": null,
   "metadata": {},
   "outputs": [],
   "source": [
    "globals_dict = ept.emu_plot(run_name=\"/efs_ecco/owang/ECCO/EMU/tryout/emu_fgrd_7_15_743_5_-1.00E-01\",\n",
    "                            frequency='m',\n",
    "                            pfile_beg=0, pfile_end=1000000,\n",
    "                            pvar=1);"
   ]
  },
  {
   "cell_type": "markdown",
   "metadata": {},
   "source": [
    "```\n",
    "Found file: /efs_ecco/ECCO/EMU/emu_userinterface_dir/emu_env.singularity\n",
    "EMU Input Files directory: /efs/owang/ECCO/EMU_test/emu_input_dir\n",
    "\n",
    "Specified directory of EMU run to examine: /efs_ecco/owang/ECCO/EMU/tryout/emu_fgrd_7_15_743_5_-1.00E-01\n",
    "\n",
    "Reading /efs_ecco/owang/ECCO/EMU/tryout/emu_fgrd_7_15_743_5_-1.00E-01\n",
    "\n",
    "Reading Forward Gradient Tool output ... \n",
    "\n",
    "Detected \n",
    "   395 files of state_2d_set1_day.*.data\n",
    "    12 files of state_2d_set1_mon.*.data\n",
    "    12 files of state_3d_set1_mon.*.data\n",
    "\n",
    "Choose variable to plot ...\n",
    "1) SSH\n",
    "2) OBP\n",
    "3) THETA\n",
    "4) SALT\n",
    "5) U\n",
    "6) V\n",
    "\n",
    "Select monthly or daily mean ... (m/d)?\n",
    "(NOTE: daily mean available for SSH and OBP only.)\n",
    "Specified frequency 'm' for monthly or 'd' for daily: m\n",
    "Specified start and end files #: 0 and 1000000\n",
    "==> Reading and plotting monthly means ...\n",
    "\n",
    "Specified variable # to plot: 2\n",
    "\n",
    "Plotting ... OBP\n",
    "\n",
    "***********************\n",
    "EMU variables read as global variables in module global_emu_var (emu); e.g., emu.nx\n",
    "***********************\n",
    "cs                  drc                 drf                 dvol3d              \n",
    "dxc                 dxg                 dyc                 dyg                 \n",
    "fgrd2d              hfacc               hfacs               hfacw               \n",
    "nr                  nx                  ny                  rac                 \n",
    "ras                 raw                 raz                 rc                  \n",
    "rf                  sn                  xc                  xg                  \n",
    "yc                  yg                  \n",
    "```"
   ]
  },
  {
   "cell_type": "markdown",
   "metadata": {},
   "source": [
    "- Extract Data from Return Dictionary"
   ]
  },
  {
   "cell_type": "code",
   "execution_count": null,
   "metadata": {},
   "outputs": [],
   "source": [
    "return_vars_dict = globals_dict.get('return_vars')\n",
    "fgrd2d_all = return_vars_dict['variable']\n",
    "pinfo = 'SSH state_2d_set1_mon.0000000732.data scaled by 1.000000000e+03'"
   ]
  },
  {
   "cell_type": "markdown",
   "metadata": {},
   "source": [
    "- Make Plot"
   ]
  },
  {
   "cell_type": "code",
   "execution_count": null,
   "metadata": {},
   "outputs": [],
   "source": [
    "lib_python.plt_state2d(fgrd2d_all[0], pinfo)"
   ]
  },
  {
   "cell_type": "markdown",
   "metadata": {},
   "source": [
    "Method 2 generates the same figure (see the second figure embedded in `fgrd_viz.ipynb`) as the one generated by Method 1. "
   ]
  }
 ],
 "metadata": {
  "kernelspec": {
   "display_name": "Python 3.9.6 64-bit",
   "language": "python",
   "name": "python3"
  },
  "language_info": {
   "name": "python",
   "version": "3.9.6"
  },
  "orig_nbformat": 4,
  "vscode": {
   "interpreter": {
    "hash": "31f2aee4e71d21fbe5cf8b01ff0e069b9275f58929596ceb00d14d90e3e16cd6"
   }
  }
 },
 "nbformat": 4,
 "nbformat_minor": 2
}
