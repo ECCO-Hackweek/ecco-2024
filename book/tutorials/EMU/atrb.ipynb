{
 "cells": [
  {
   "cell_type": "markdown",
   "metadata": {},
   "source": [
    "# Attribution Tool\n",
    "The Attribution (atrb) Tool evaluates model state time-series by control type.\n",
    "\n",
    "In this tutorial, we demonstrate how to use the Attribution Tool to evaluate the time-series of temperature (`theta`, in `deg C`) of the upper 10 m of the Ni&ntilde;o 3.4 region (5&deg;S-5&deg;N, 170&deg;W-120&deg;W). We then show how to plot some of the results."
   ]
  },
  {
   "cell_type": "markdown",
   "metadata": {},
   "source": [
    "## Run Attribution Tool\n",
    "\n",
    "### Request an Interactive Node\n",
    "The Attribution Tool is one of two tools typically run as a shell script without being submitted as a batch job (see EMU Introduction). As described in [EMU Introduction](EMU_Intro.ipynb), we first request an interactive node:\"\n",
    "```bash\n",
    "salloc --ntasks=2 --ntasks-per-node=2 --partition=sealevel-c5xl-demand --time=01:00:00\n",
    "```\n",
    "Once the requested node is available (see [Reproducing ECCO Version 4 Release 4](../pcluster/reproducing_v4r4.ipynb) for examples on how to use `squeue` to check job status), we proceed with running the tool. \n",
    "\n",
    "### Configure and Run Attribution Tool\n",
    "We start EMU (see, e.g., [Adjoint Tool](adj.ipynb)) and choose the Attribution Tool by entering `8`. \n",
    "```\n",
    "8\n",
    "choice is 8) Attribution Tool (atrb)\n",
    "See /efs_ecco/ECCO/EMU/emu_userinterface_dir/README_atrb\n",
    " \n",
    "************************************\n",
    "    EMU Attribution Tool (singularity) \n",
    "************************************\n",
    " \n",
    "**** Steps 1 & 2: Setup & Specification\n",
    " \n",
    "\n",
    "Evaluating model time-series ... \n",
    "\n",
    " Define objective function (OBJF) ... \n",
    " Available VARIABLES are ... \n",
    "    1) SSH (m)\n",
    "    2) OBP (equivalent sea level m)\n",
    "    3) THETA (deg C)\n",
    "    4) SALT (PSU)\n",
    "    5) UV (m/s)\n",
    "\n",
    "   Monthly or Daily mean ... (m/d)?\n",
    "   (NOTE: daily mean available for SSH and OBP only.)\n",
    "```\n",
    "We then choose monthly mean by entering `m`. \n",
    "```\n",
    "   fmd = m\n",
    "   ==> Sampling MONTHLY means ... \n",
    "\n",
    "------------------\n",
    "   Choose OBFJ variable (v in Eq 1 of Guide) # 1 ... (1-5)?\n",
    "   (Enter 0 to end variable selection)\n",
    "```\n",
    "We enter `3` to select `THETA` (`deg C`) and `2` to choose the option of \"VARIABLE weighted in space\".\n",
    "```\n",
    "3  \n",
    "   OBJF variable  1 is THETA\n",
    " Choose either VARIABLE at a point (1) or  VARIABLE weighted in space (2) ... (1/2)?\n",
    "2  \n",
    " ... OBJF will be a linear function of selected variable\n",
    "    i.e., MULT * SUM( MASK * VARIABLE )\n",
    "\n",
    "   Interactively specify MASK (1) or read from user file (2) ... (1/2)?\n",
    "```\n",
    "We then choose to interactively define the mask by entering `1` and specify the spatial range for the the Ni&ntilde;o 3.4 box: `-170`, `-120`, `-5`, `5`, `10`, and `0`, as done in the [Tracer Tool](trc.ipynb).\n",
    "```\n",
    "1\n",
    "\n",
    "    Interactively creating MASK for volume mean.\n",
    "\n",
    " Enter west most longitude (-180E to 180E)... x1?\n",
    "-170\n",
    " Enter east most longitude (-180E to 180E)... x2?\n",
    "    (choose x2=x1 for zonally global volume) \n",
    "-120\n",
    " Enter south most latitude (-90N to 90N)... y1?\n",
    "-5\n",
    " Enter north most latitude (-90N to 90N)... y2?\n",
    "5\n",
    " Enter deepest depth (0-6000m) ... z1?\n",
    "10\n",
    " Enter shallowest depth (0-6000m)... z2?\n",
    "0\n",
    "```\n",
    "We are then prompted with the following: \n",
    "```\n",
    "   Should volume mean be relative to global mean ... (enter 1 for yes)?\n",
    "```\n",
    "We choose not to make the volume mean relative to the global mean by entering `0`.\n",
    "```\n",
    "   3d Mask output: \n",
    "\n",
    "   mask3d.-170.0_-120.0_-5.0_5.0_10.0_0.0\n",
    "\n",
    "   Enter scaling factor (alpha in Eq 1 of Guide)... ?\n",
    "```\n",
    "We then enter `1` for the scaling factor.\n",
    "```\n",
    "amult =   1.0000E+00\n",
    "\n",
    "------------------\n",
    "   Choose OBFJ variable (v in Eq 1 of Guide) # 2 ... (1-5)?\n",
    "   (Enter 0 to end variable selection)\n",
    "```\n",
    "We enter `0` to end the selection and the evaluation starts.\n",
    "```\n",
    "Done interactive specification.\n",
    "Begin evaluating time-series ... \n",
    " \n",
    "Tool output will be in: emu_atrb_m_3_mask3d.-170.0_-120.0_-5.0_5.0_10.0_0.0_1\n",
    " \n",
    "Sampling reference run ... \n",
    "from:  /emu_input_dir/emu_ref/diags\n",
    " \n",
    "Sampling time-mean wind run ... \n",
    "from:  /emu_input_dir/emu_msim/mean_oceTAUX_oceTAUY/diags\n",
    " \n",
    "Sampling time-mean heat flux run ... \n",
    "from:  /emu_input_dir/emu_msim/mean_TFLUX_oceQsw/diags\n",
    " \n",
    "Sampling time-mean freshwater flux run ... \n",
    "from:  /emu_input_dir/emu_msim/mean_oceFWflx/diags\n",
    "^[c \n",
    "Sampling time-mean salt flux run ... \n",
    "from:  /emu_input_dir/emu_msim/mean_oceSflux_oceSPflx/diags\n",
    " \n",
    "Sampling time-mean pressure load run ... \n",
    "from:  /emu_input_dir/emu_msim/mean_sIceLoadPatmPload_nopabar/diags\n",
    " \n",
    "Sampling time-mean initial condition run ... \n",
    "from:  /emu_input_dir/emu_msim/mean_IC/diags\n",
    " \n",
    "Computing individual control contribution ... \n",
    " \n",
    "********************************************\n",
    "    Done. Results are in /efs_ecco/owang/ECCO/EMU/tryout/emu_atrb_m_3_mask3d.-170.0_-120.0_-5.0_5.0_10.0_0.0_1/output\n",
    "********************************************\n",
    " \n",
    "\n",
    "EMU interactive execution complete. Fri Oct  4 22:56:04 UTC 2024\n",
    "\n",
    "```\n",
    "The run name is `emu_atrb_m_3_mask3d.-170.0_-120.0_-5.0_5.0_10.0_0.0_1`. "
   ]
  },
  {
   "cell_type": "markdown",
   "metadata": {},
   "source": [
    "## Visualize Adjoint Tool Results\n",
    "We now demonstrate how to visualize the Attribution Tool results: the tendency term of the quantity of interest, as well as contributions from controls, including atmospheric forcing and initial conditions. Plotting the results of Modified Simulation Tool is the same as [plotting Sampling Tool results](samp.ipynb), except that we now enter or specify the run directory name: `/efs_ecco/owang/ECCO/EMU/tryout/emu_atrb_m_3_mask3d.-170.0_-120.0_-5.0_5.0_10.0_0.0_1`. Again, we will show two methods of using the visualization tool. \n",
    "\n",
    "```{tip}\n",
    "A Jupyter Notebook, [atrb_viz](../../../assets/code/atrb_viz) (after downloading, rename it to `atrb_viz.ipynb`), is provided for users' convenience. It reproduces the steps and figures described in this visualization tutorial. Users can also add more sophisticated analysis on top of this notebook. \n",
    "```\n",
    "\n",
    "Same as in [Sampling Tool](samp.ipynb), we first log into [OSS](https://sealevel.oss.eis.smce.nasa.gov) and start a Jupyter Notebook session.\n",
    "\n",
    "### Method 1: Menu-driven Input\n",
    "\n",
    "We then create a new Jupyter Notebook, import the `runpy` module, and then call the Python plotting script located at `/efs_ecco/ECCO/EMU/emu_userinterface_dir/python/emu_plot.py`. The plotting script asks for the directory name of the EMU run (in this case, `/efs_ecco/owang/ECCO/EMU/tryout/emu_atrb_m_3_mask3d.-170.0_-120.0_-5.0_5.0_10.0_0.0_1`), and then generates the plot."
   ]
  },
  {
   "cell_type": "code",
   "execution_count": null,
   "metadata": {},
   "outputs": [],
   "source": [
    "import runpy\n",
    "runpy.run_path('/efs_ecco/ECCO/EMU/emu_userinterface_dir/python/emu_plot.py');"
   ]
  },
  {
   "cell_type": "markdown",
   "metadata": {},
   "source": [
    "```\n",
    "Found file: /efs_ecco/ECCO/EMU/emu_userinterface_dir/emu_env.singularity\n",
    "EMU Input Files directory: /efs_ecco/ECCO/EMU/emu_input_dir\n",
    "\n",
    "Enter directory of EMU run to examine; e.g., emu_samp_m_2_45_585_1 ... ?\n",
    "```\n",
    "We then enter the directory name of the Attribution Tool run: `/efs_ecco/owang/ECCO/EMU/tryout/emu_atrb_m_3_mask3d.-170.0_-120.0_-5.0_5.0_10.0_0.0_1`.\n",
    "\n",
    "The plotting generates the following figure: \n",
    "\n",
    "![Attribution Tool figure](figures/Fig_atrb_1.png)\n",
    "\n",
    "The figure shows the time series of temperature in the Ni&ntilde;o 3.4 box (black) along the contributions from each control, including ocean surface forcing and initial conditions: wind stress (orange), heat flux (green), freshwater flux (red), salt flux (purple), pressure load (brown), and initial conditions (magenta). The largest contribution is from wind stress, which is well known for influencing tropical Pacific upper ocean heat content and sea surface height changes, followed by a significant contribution from heat flux. The contributions of wind stress and heat flux are anti-correlated. "
   ]
  },
  {
   "cell_type": "markdown",
   "metadata": {},
   "source": [
    "### Method 2: Argument-based Input\n",
    "The detailed steps for Method 2 can be found in `atrb_viz.ipynb` (see Tip above). \n",
    "- Load modules"
   ]
  },
  {
   "cell_type": "code",
   "execution_count": null,
   "metadata": {},
   "outputs": [],
   "source": [
    "import sys\n",
    "sys.path.append('/efs_ecco/ECCO/EMU/emu_userinterface_dir/')\n",
    "import emu_plot_arg_py as ept\n",
    "import plt_atrb"
   ]
  },
  {
   "cell_type": "markdown",
   "metadata": {},
   "source": [
    "-  Invoke Method 2"
   ]
  },
  {
   "cell_type": "code",
   "execution_count": null,
   "metadata": {},
   "outputs": [],
   "source": [
    "# Attribution Tool\n",
    "globals_dict = ept.emu_plot(run_name=\"/efs_ecco/owang/ECCO/EMU/tryout/emu_atrb_m_3_mask3d.-170.0_-120.0_-5.0_5.0_10.0_0.0_1\")"
   ]
  },
  {
   "cell_type": "markdown",
   "metadata": {},
   "source": [
    "```\n",
    "Found file: /efs_ecco/ECCO/EMU/emu_userinterface_dir/emu_env.singularity\n",
    "EMU Input Files directory: /efs/owang/ECCO/EMU_test/emu_input_dir\n",
    "\n",
    "Specified directory of EMU run to examine: /efs_ecco/owang/ECCO/EMU/tryout/emu_atrb_m_3_mask3d.-170.0_-120.0_-5.0_5.0_10.0_0.0_1\n",
    "\n",
    "Reading /efs_ecco/owang/ECCO/EMU/tryout/emu_atrb_m_3_mask3d.-170.0_-120.0_-5.0_5.0_10.0_0.0_1\n",
    "\n",
    "Reading Attribution Tool output ... \n",
    "*********************************************\n",
    "Read OBJF and contributions to it from different controls\n",
    "   atrb: temporal anomaly \n",
    "   atrb_mn: reference time-mean \n",
    "   fctrl: names of atrb/atrb_mn variables \n",
    "from file /efs_ecco/owang/ECCO/EMU/tryout/emu_atrb_m_3_mask3d.-170.0_-120.0_-5.0_5.0_10.0_0.0_1/output/atrb.out_312\n",
    "\n",
    "*********************************************\n",
    "Read variable \n",
    "   atrb_hr: sample time (hours from 1/1/1992 12Z)\n",
    "from file /efs_ecco/owang/ECCO/EMU/tryout/emu_atrb_m_3_mask3d.-170.0_-120.0_-5.0_5.0_10.0_0.0_1/output/atrb.step_312\n",
    "\n",
    "\n",
    "***********************\n",
    "EMU variables read as global variables in module global_emu_var (emu); e.g., emu.nx\n",
    "***********************\n",
    "atrb                atrb_ctrl           atrb_hr             atrb_mn             \n",
    "cs                  drc                 drf                 dvol3d              \n",
    "dxc                 dxg                 dyc                 dyg                 \n",
    "hfacc               hfacs               hfacw               nr                  \n",
    "nx                  ny                  rac                 ras                 \n",
    "raw                 raz                 rc                  rf                  \n",
    "sn                  xc                  xg                  yc                  \n",
    "yg\n",
    "```"
   ]
  },
  {
   "cell_type": "markdown",
   "metadata": {},
   "source": [
    "- Extract Data from Return Dictionary"
   ]
  },
  {
   "cell_type": "code",
   "execution_count": null,
   "metadata": {},
   "outputs": [],
   "source": [
    "# Extract return dictionary\n",
    "return_vars_dict = globals_dict.get('return_vars')"
   ]
  },
  {
   "cell_type": "markdown",
   "metadata": {},
   "source": [
    "- Make plot"
   ]
  },
  {
   "cell_type": "code",
   "execution_count": null,
   "metadata": {},
   "outputs": [],
   "source": [
    "# Extract data for the plot\n",
    "atrb_t = return_vars_dict['time_values'] \n",
    "atrb = return_vars_dict['variable']\n",
    "fctrl = return_vars_dict['ctrl_name']\n",
    "frun_file = return_vars_dict['plot_title']\n",
    "nterms = len(fctrl)\n",
    "fld_all = return_vars_dict['variable'] \n",
    "\n",
    "# Create plot\n",
    "plot_atrb.create_atrb_fig(atrb_t, atrb, frun_file, fctrl, nterms)"
   ]
  },
  {
   "cell_type": "markdown",
   "metadata": {},
   "source": [
    "Method 2 generates the same figure (not shown; see the figure embedded in `atrb_viz.ipynb`) as that generated by Method 1."
   ]
  }
 ],
 "metadata": {
  "kernelspec": {
   "display_name": "Python 3.9.6 64-bit",
   "language": "python",
   "name": "python3"
  },
  "language_info": {
   "name": "python",
   "version": "3.9.6"
  },
  "orig_nbformat": 4,
  "vscode": {
   "interpreter": {
    "hash": "31f2aee4e71d21fbe5cf8b01ff0e069b9275f58929596ceb00d14d90e3e16cd6"
   }
  }
 },
 "nbformat": 4,
 "nbformat_minor": 2
}
