{
 "cells": [
  {
   "cell_type": "markdown",
   "metadata": {},
   "source": [
    "# Using ECCO Modeling Utility (EMU) Tools on P-Cluster\n",
    "EMU is a collection of computational tools for analyzing the ECCO model itself, in addition to its state (flux-forced Version 4 Release 4). The tools (and their abbreviations) include the following;\n",
    "   1) Sampling (samp); Evaluates time-series of the model state. \n",
    "   2) Forward Gradient (fgrd); Computes state's forward gradient. \n",
    "   3) Adjoint (adj); Computes state's adjoint gradient. \n",
    "   4) Convolution (conv); Evaluates adjoint gradient decomposition.\n",
    "   5) Tracer (trc); Computes passive tracer evolution.\n",
    "   6) Budget (budg); Evaluates time-series of the state's fluxes.\n",
    "   7) Modified Simulation (msim); Runs V4r4 with modified input.\n",
    "   8) Attribution (atrb); Evaluates state time-series by control type. \n",
    "   \n",
    "The EMU code is accessible at https://github.com/ECCO-GROUP/ECCO-EIS/tree/main/emu. There is a main [README](https://github.com/ECCO-GROUP/ECCO-EIS/blob/main/emu/README) file for the EMU tools, as well as individual README files (README_***) for each tool. Additionally, EMU provides programs for interactively reading and plotting in different programming languages. For a detailed description, refer to the [EMU User Guide](https://github.com/ECCO-GROUP/ECCO-EIS/blob/main/emu/Guide_ECCO_Modeling_Utilities.pdf).\n",
    "\n",
    "This tutorial provides steps on using the EMU tool on the P-Cluster."
   ]
  }
 ],
 "metadata": {
  "kernelspec": {
   "display_name": "Python 3.9.6 64-bit",
   "language": "python",
   "name": "python3"
  },
  "language_info": {
   "name": "python",
   "version": "3.9.6"
  },
  "orig_nbformat": 4,
  "vscode": {
   "interpreter": {
    "hash": "31f2aee4e71d21fbe5cf8b01ff0e069b9275f58929596ceb00d14d90e3e16cd6"
   }
  }
 },
 "nbformat": 4,
 "nbformat_minor": 2
}
