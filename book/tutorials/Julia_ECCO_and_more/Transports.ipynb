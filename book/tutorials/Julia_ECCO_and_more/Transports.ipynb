{
 "cells": [
  {
   "cell_type": "markdown",
   "id": "a6dc985c-1ca1-46a2-a4d8-15bd666a0a3f",
   "metadata": {},
   "source": [
    "# Ocean Transports in ECCO\n",
    "\n",
    "The following notebooks cover the topic of vector and transport calculations from ECCO solutions on the native model grid (LLC90, C-grid).\n",
    "\n",
    "- compute vector operations on the C-grid, such as gradient, curl, convergence, transports 👉 [MeshArrays/vectors](https://juliaclimate.github.io/MeshArrays.jl/dev/tutorials/vectors.html) notebook\n",
    "- visualize and anlyze time series of ocean transports, overturnings, etc 👉 [Climatology/ECCO4](https://juliaocean.github.io/Climatology.jl/dev/examples/ECCO_standard_plots.html) notebook\n",
    "- compute three dimentional water parcel trajectories using the OCCA ocean state esimate 👉 [IndividualDisplacements/global3D](https://juliaclimate.github.io/IndividualDisplacements.jl/dev/examples/three_dimensional_ocean.html) notebook"
   ]
  },
  {
   "cell_type": "code",
   "execution_count": null,
   "id": "94c693a6-775a-4270-8d53-735a64bf4609",
   "metadata": {},
   "outputs": [],
   "source": []
  }
 ],
 "metadata": {
  "kernelspec": {
   "display_name": "Julia 1.10.5",
   "language": "julia",
   "name": "julia-1.10"
  },
  "language_info": {
   "file_extension": ".jl",
   "mimetype": "application/julia",
   "name": "julia",
   "version": "1.10.5"
  }
 },
 "nbformat": 4,
 "nbformat_minor": 5
}
