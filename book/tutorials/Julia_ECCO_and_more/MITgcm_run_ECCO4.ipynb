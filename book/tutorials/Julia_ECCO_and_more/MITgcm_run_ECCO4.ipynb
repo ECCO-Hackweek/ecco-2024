{
 "cells": [
  {
   "cell_type": "markdown",
   "id": "f55cf3e9-57df-4556-80ce-909294fd8f5d",
   "metadata": {},
   "source": [
    "# Run ECCO Solutions From Julia\n",
    "\n",
    "The MITgcm.jl package let's you run ECCO4 solutions from scracth in two simple commands -- `MITgcm_config` and `run`.\n",
    "\n",
    "_See the MITgcm.jl [docs here](https://gaelforget.github.io/MITgcm.jl/dev/functionalities_configurations/#Global-ECCO-Configuration) for more detail and examples like this._\n",
    "\n",
    "## In the Code Below:\n",
    "\n",
    "- `MITgcm_config` defined the model configuration.\n",
    "- we reset parameters, assuming that inputs have already been downloaded and the model compiled\n",
    "    - if that's not the case, just comment out the `push!(MC.inputs...` lines, and `run` will download data and/or compile the model.\n",
    "- `run(MC)` creates a run folder, sets everything up in that folder, and creates a submission script.\n",
    "- `run(`qsub $(script)`)` submits the job to the queuing system from within julia."
   ]
  },
  {
   "cell_type": "code",
   "execution_count": 1,
   "id": "7e7c7f72-59cd-4af2-b644-1f61b0a1a5e2",
   "metadata": {},
   "outputs": [
    {
     "data": {
      "text/plain": [
       "\u001b[0m  ID            = \u001b[39m637af6be-1922-491d-ac2c-792d12763498\u001b[39m\n",
       "\u001b[0m  model         = \u001b[39mMITgcm\u001b[39m\n",
       "\u001b[0m  configuration = \n",
       "\u001b[0m  run folder    = \u001b[39m/var/folders/vn/3r695jqd3177cw09wdmf3z940000gn/T/jl_CrkNKvSrKb/637af6be-1922-491d-ac2c-792d12763498\u001b[39m\n",
       "\u001b[0m  log subfolder = \u001b[39m/var/folders/vn/3r695jqd3177cw09wdmf3z940000gn/T/jl_CrkNKvSrKb/637af6be-1922-491d-ac2c-792d12763498/log\u001b[39m\n"
      ]
     },
     "execution_count": 1,
     "metadata": {},
     "output_type": "execute_result"
    }
   ],
   "source": [
    "using MITgcm\n",
    "\n",
    "run_folder=tempname()\n",
    "params=read_toml(:ECCO4)\n",
    "MC=MITgcm_config(inputs=params,folder=run_folder)"
   ]
  },
  {
   "cell_type": "code",
   "execution_count": 2,
   "id": "b3268d76-c7cd-48b3-a6ba-3aba04ccc180",
   "metadata": {},
   "outputs": [
    {
     "data": {
      "text/plain": [
       "OrderedCollections.OrderedDict{Any, Any} with 5 entries:\n",
       "  :category     => \"custom\"\n",
       "  :name         => \"ECCO4\"\n",
       "  :version      => \"main\"\n",
       "  :exe          => \"/var/folders/vn/3r695jqd3177cw09wdmf3z940000gn/T/mitgcmuv\"\n",
       "  :input_folder => \"/var/folders/vn/3r695jqd3177cw09wdmf3z940000gn/T/input_fold…"
      ]
     },
     "execution_count": 2,
     "metadata": {},
     "output_type": "execute_result"
    }
   ],
   "source": [
    "exe=joinpath(tempdir(),\"mitgcmuv\")\n",
    "push!(MC.inputs[:setup][:main],(:exe => exe))\n",
    "input_folder=joinpath(tempdir(),\"input_folder\")\n",
    "push!(MC.inputs[:setup][:main],(:input_folder => input_folder))"
   ]
  },
  {
   "cell_type": "code",
   "execution_count": null,
   "id": "516bd126-9ea8-449f-b338-4bb542ddd1e5",
   "metadata": {},
   "outputs": [],
   "source": [
    "run(MC)"
   ]
  },
  {
   "cell_type": "code",
   "execution_count": null,
   "id": "af05967e-698e-4764-a94a-084abed3262a",
   "metadata": {},
   "outputs": [],
   "source": [
    "script=joinpath(MC,\"run\",\"submit.csh\")\n",
    "run(`qsub $(script)`)"
   ]
  }
 ],
 "metadata": {
  "kernelspec": {
   "display_name": "Julia 1.10.5",
   "language": "julia",
   "name": "julia-1.10"
  },
  "language_info": {
   "file_extension": ".jl",
   "mimetype": "application/julia",
   "name": "julia",
   "version": "1.10.5"
  }
 },
 "nbformat": 4,
 "nbformat_minor": 5
}
