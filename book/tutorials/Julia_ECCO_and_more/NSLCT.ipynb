{
 "cells": [
  {
   "cell_type": "markdown",
   "id": "2c181635-edff-4a81-ba20-48cd5e024db7",
   "metadata": {},
   "source": [
    "# NASA Sea Level Change Team\n",
    "\n",
    "See https://juliaocean.github.io/Climatology.jl/dev/examples/NSLCT_notebook.html"
   ]
  },
  {
   "cell_type": "code",
   "execution_count": null,
   "id": "99513e77-b130-49a7-80c8-aae91008ee4e",
   "metadata": {},
   "outputs": [],
   "source": []
  }
 ],
 "metadata": {
  "kernelspec": {
   "display_name": "Julia 1.10.5",
   "language": "julia",
   "name": "julia-1.10"
  },
  "language_info": {
   "file_extension": ".jl",
   "mimetype": "application/julia",
   "name": "julia",
   "version": "1.10.5"
  }
 },
 "nbformat": 4,
 "nbformat_minor": 5
}
