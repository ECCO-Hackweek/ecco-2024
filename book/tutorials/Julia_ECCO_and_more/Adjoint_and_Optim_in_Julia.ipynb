{
 "cells": [
  {
   "cell_type": "markdown",
   "id": "0e6e5e63-826a-4c59-97c1-b7506b6ce9fa",
   "metadata": {},
   "source": [
    "# Adjoint and Optimization in Julia\n",
    "\n",
    "See [ECCO.jl docs](https://gaelforget.github.io/ECCO.jl/dev/) for more information and examples.\n"
   ]
  },
  {
   "cell_type": "code",
   "execution_count": 6,
   "id": "a7affdd7-3693-47e3-b75e-470d493b5489",
   "metadata": {},
   "outputs": [],
   "source": [
    "using Pkg; Pkg.add(url=\"https://github.com/gaelforget/ECCO.jl\")"
   ]
  },
  {
   "cell_type": "code",
   "execution_count": 4,
   "id": "ff779c9b-48da-4b5b-857a-6b486a8291ed",
   "metadata": {},
   "outputs": [],
   "source": [
    "using ECCO"
   ]
  },
  {
   "cell_type": "code",
   "execution_count": 5,
   "id": "952dd392-8725-42cb-ab0f-aa8117e62b72",
   "metadata": {},
   "outputs": [
    {
     "data": {
      "text/plain": [
       "(fc = -3.0606099804357885, adx = [0.0, 917.7850566361462, -6.121219960871577, -0.44841281435892])"
      ]
     },
     "execution_count": 5,
     "metadata": {},
     "output_type": "execute_result"
    }
   ],
   "source": [
    "(f,f_ad,x,y)=ECCO.toy_problems.enzyme_ex4()\n",
    "fc=f(x,y)\n",
    "adx=f_ad(x,y)\n",
    "(fc=fc,adx=adx)"
   ]
  },
  {
   "cell_type": "code",
   "execution_count": 7,
   "id": "e7d6f666-f9fc-4605-b516-5855961ef254",
   "metadata": {},
   "outputs": [
    {
     "data": {
      "text/plain": [
       "(fc = 5.191703158437428e-27, gradient_check = true)"
      ]
     },
     "execution_count": 7,
     "metadata": {},
     "output_type": "execute_result"
    }
   ],
   "source": [
    "(f,g!,x0,x1,result)=ECCO.toy_problems.optim_ex2()\n",
    "dx=1e-4*(x0-x1)\n",
    "(fc=f(x1),gradient_check=f(x1)<f(x1+dx))"
   ]
  },
  {
   "cell_type": "code",
   "execution_count": null,
   "id": "43c81c90-a313-40b3-a3f7-450b76bb1767",
   "metadata": {},
   "outputs": [],
   "source": []
  }
 ],
 "metadata": {
  "kernelspec": {
   "display_name": "Julia 1.10.5",
   "language": "julia",
   "name": "julia-1.10"
  },
  "language_info": {
   "file_extension": ".jl",
   "mimetype": "application/julia",
   "name": "julia",
   "version": "1.10.5"
  }
 },
 "nbformat": 4,
 "nbformat_minor": 5
}
