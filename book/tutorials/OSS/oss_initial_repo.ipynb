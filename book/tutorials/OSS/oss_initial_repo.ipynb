{
 "cells": [
  {
   "cell_type": "markdown",
   "id": "ca059870-bd3b-4bd2-9bff-1155d6076d18",
   "metadata": {},
   "source": [
    "# Setting up your OSS Environment\n",
    "\n",
    "This tutorial describes how fork and clone the \"ECCO-v4-Python Tutorial\" GitHub repository onto your local OSS disk.\n",
    "\n",
    "## Fork and Clone the ECCO-v4-Python Tutorial\n",
    "\n",
    "Your OSS account does not have any github repositories cloned by default. The \"ECCO-v4-Python Tutorial\" contains a set of Jupyter Notebooks tutorials for analyzing ECCO V4 solutions. To have a local copy of the ECCO-v4-Python Tutorial we suggest that you fork and clone the repo to your OSS account.\n",
    "\n",
    "Forking and cloning a repository is beneficial because it:\n",
    "- Forking allows you to create your own copy of a project under your GitHub account.\n",
    "- You can freely experiment, make changes, and develop features without affecting the original project.\n",
    "- After cloning the forked repository, you can sync updates from the original repository and contribute back via pull requests.\n",
    "\n",
    "### Fork the \"ECCO-v4-Python Tutorial\"\n",
    "1. Log into your GitHub account\n",
    "2. Navigate to the [ECCO-v4-Python Tutorial GitHub Page](https://github.com/ECCO-GROUP/ECCO-v4-Python-Tutorial/tree/master)\n",
    "3. Click *Gray* Fork Button: [Detailed Forking Instructions](https://docs.github.com/en/pull-requests/collaborating-with-pull-requests/working-with-forks/fork-a-repo)\n",
    "4. In the \"Create a new fork\" page, choose yourself as the \"Owner\"\n",
    "5. Click *Green* \"Create fork\" button\n",
    "6. After a few seconds, a new page will appear with your new forked repository\n",
    "\n",
    "### Clone the \"ECCO-v4-Python Tutorial\"\n",
    "1. Click *Green* \"\\<\\> Code\" button\n",
    "2. In the \"Local Tab\", select the \"SSH\" tab\n",
    "> [!NOTE]\n",
    "> By selecting the SSH tab, you can contribute code using your GitHub identity\n",
    "3. Copy the the `git@github.com:[...]` link to the clipboard (select and copy or use handy copy button with the two squares)\n",
    "4. Return to the OSS JupyterLab terminal window\n",
    "5. go to your home directory `cd ~/`\n",
    "6. clone the link that you copied: ex) ```git clone git@github.com:...```\n",
    "   - enter your ssh key passphrase if you used one when creating the key\n",
    "\n",
    "Now you should have a directory called"
   ]
  },
  {
   "cell_type": "markdown",
   "id": "72ac64b5-f2dc-4f83-8073-603955caf9ee",
   "metadata": {},
   "source": [
    " ```\n",
    "/home/jovyan/ECCO-v4-Python-Tutorial\n",
    "```"
   ]
  },
  {
   "cell_type": "code",
   "execution_count": null,
   "id": "a845d444-89a7-4938-8b8c-95686218f95a",
   "metadata": {},
   "outputs": [],
   "source": []
  }
 ],
 "metadata": {
  "jupytext": {
   "cell_metadata_filter": "-all",
   "main_language": "python",
   "notebook_metadata_filter": "-all"
  },
  "kernelspec": {
   "display_name": "",
   "name": ""
  },
  "language_info": {
   "name": ""
  }
 },
 "nbformat": 4,
 "nbformat_minor": 5
}
